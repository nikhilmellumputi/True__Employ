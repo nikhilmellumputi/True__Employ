{
 "cells": [
  {
   "cell_type": "markdown",
   "metadata": {},
   "source": [
    "# Myers-Briggs Personality Classification with ML algorithms"
   ]
  },
  {
   "cell_type": "markdown",
   "metadata": {},
   "source": [
    "#### This notebook includes following steps:\n",
    "* Exploratory Data Analysis\n",
    "* Data Cleaning\n",
    "* Data Preprocessing\n",
    "* Model Creation\n",
    "* Model Training\n",
    "* Model Evaluation and Selection\n"
   ]
  },
  {
   "cell_type": "markdown",
   "metadata": {},
   "source": [
    "### Importing Libraries"
   ]
  },
  {
   "cell_type": "code",
   "execution_count": 1,
   "metadata": {},
   "outputs": [],
   "source": [
    "import pandas as pd\n",
    "import numpy as np\n",
    "import seaborn as sns\n",
    "import matplotlib.pyplot as plt\n",
    "import re\n",
    "import nltk\n",
    "from nltk import FreqDist\n",
    "from nltk.tokenize import word_tokenize\n",
    "from nltk.corpus import stopwords, wordnet\n",
    "from nltk.stem import WordNetLemmatizer\n",
    "from wordcloud import WordCloud\n",
    "from collections import Counter\n",
    "from itertools import chain\n",
    "import contractions\n",
    "from nltk.collocations import BigramAssocMeasures, BigramCollocationFinder\n",
    "from nltk.collocations import TrigramAssocMeasures, TrigramCollocationFinder\n",
    "from nltk import ngrams"
   ]
  },
  {
   "cell_type": "markdown",
   "metadata": {},
   "source": [
    "### Load Dataset"
   ]
  },
  {
   "cell_type": "code",
   "execution_count": 2,
   "metadata": {},
   "outputs": [
    {
     "data": {
      "text/html": [
       "<div>\n",
       "<style scoped>\n",
       "    .dataframe tbody tr th:only-of-type {\n",
       "        vertical-align: middle;\n",
       "    }\n",
       "\n",
       "    .dataframe tbody tr th {\n",
       "        vertical-align: top;\n",
       "    }\n",
       "\n",
       "    .dataframe thead th {\n",
       "        text-align: right;\n",
       "    }\n",
       "</style>\n",
       "<table border=\"1\" class=\"dataframe\">\n",
       "  <thead>\n",
       "    <tr style=\"text-align: right;\">\n",
       "      <th></th>\n",
       "      <th>type</th>\n",
       "      <th>posts</th>\n",
       "    </tr>\n",
       "  </thead>\n",
       "  <tbody>\n",
       "    <tr>\n",
       "      <th>0</th>\n",
       "      <td>INFJ</td>\n",
       "      <td>'http://www.youtube.com/watch?v=qsXHcwe3krw|||...</td>\n",
       "    </tr>\n",
       "    <tr>\n",
       "      <th>1</th>\n",
       "      <td>ENTP</td>\n",
       "      <td>'I'm finding the lack of me in these posts ver...</td>\n",
       "    </tr>\n",
       "    <tr>\n",
       "      <th>2</th>\n",
       "      <td>INTP</td>\n",
       "      <td>'Good one  _____   https://www.youtube.com/wat...</td>\n",
       "    </tr>\n",
       "    <tr>\n",
       "      <th>3</th>\n",
       "      <td>INTJ</td>\n",
       "      <td>'Dear INTP,   I enjoyed our conversation the o...</td>\n",
       "    </tr>\n",
       "    <tr>\n",
       "      <th>4</th>\n",
       "      <td>ENTJ</td>\n",
       "      <td>'You're fired.|||That's another silly misconce...</td>\n",
       "    </tr>\n",
       "  </tbody>\n",
       "</table>\n",
       "</div>"
      ],
      "text/plain": [
       "   type                                              posts\n",
       "0  INFJ  'http://www.youtube.com/watch?v=qsXHcwe3krw|||...\n",
       "1  ENTP  'I'm finding the lack of me in these posts ver...\n",
       "2  INTP  'Good one  _____   https://www.youtube.com/wat...\n",
       "3  INTJ  'Dear INTP,   I enjoyed our conversation the o...\n",
       "4  ENTJ  'You're fired.|||That's another silly misconce..."
      ]
     },
     "execution_count": 2,
     "metadata": {},
     "output_type": "execute_result"
    }
   ],
   "source": [
    "data = pd.read_csv(\"dataset/mb_data.csv\")\n",
    "data.head()"
   ]
  },
  {
   "cell_type": "markdown",
   "metadata": {},
   "source": [
    "#### some information about dataset"
   ]
  },
  {
   "cell_type": "code",
   "execution_count": 3,
   "metadata": {},
   "outputs": [
    {
     "name": "stdout",
     "output_type": "stream",
     "text": [
      "<class 'pandas.core.frame.DataFrame'>\n",
      "RangeIndex: 8675 entries, 0 to 8674\n",
      "Data columns (total 2 columns):\n",
      " #   Column  Non-Null Count  Dtype \n",
      "---  ------  --------------  ----- \n",
      " 0   type    8675 non-null   object\n",
      " 1   posts   8675 non-null   object\n",
      "dtypes: object(2)\n",
      "memory usage: 135.7+ KB\n"
     ]
    }
   ],
   "source": [
    "data.info()"
   ]
  },
  {
   "cell_type": "code",
   "execution_count": 4,
   "metadata": {},
   "outputs": [
    {
     "data": {
      "text/html": [
       "<div>\n",
       "<style scoped>\n",
       "    .dataframe tbody tr th:only-of-type {\n",
       "        vertical-align: middle;\n",
       "    }\n",
       "\n",
       "    .dataframe tbody tr th {\n",
       "        vertical-align: top;\n",
       "    }\n",
       "\n",
       "    .dataframe thead th {\n",
       "        text-align: right;\n",
       "    }\n",
       "</style>\n",
       "<table border=\"1\" class=\"dataframe\">\n",
       "  <thead>\n",
       "    <tr style=\"text-align: right;\">\n",
       "      <th></th>\n",
       "      <th>type</th>\n",
       "      <th>posts</th>\n",
       "    </tr>\n",
       "  </thead>\n",
       "  <tbody>\n",
       "    <tr>\n",
       "      <th>count</th>\n",
       "      <td>8675</td>\n",
       "      <td>8675</td>\n",
       "    </tr>\n",
       "    <tr>\n",
       "      <th>unique</th>\n",
       "      <td>16</td>\n",
       "      <td>8675</td>\n",
       "    </tr>\n",
       "    <tr>\n",
       "      <th>top</th>\n",
       "      <td>INFP</td>\n",
       "      <td>'http://www.youtube.com/watch?v=qsXHcwe3krw|||...</td>\n",
       "    </tr>\n",
       "    <tr>\n",
       "      <th>freq</th>\n",
       "      <td>1832</td>\n",
       "      <td>1</td>\n",
       "    </tr>\n",
       "  </tbody>\n",
       "</table>\n",
       "</div>"
      ],
      "text/plain": [
       "        type                                              posts\n",
       "count   8675                                               8675\n",
       "unique    16                                               8675\n",
       "top     INFP  'http://www.youtube.com/watch?v=qsXHcwe3krw|||...\n",
       "freq    1832                                                  1"
      ]
     },
     "execution_count": 4,
     "metadata": {},
     "output_type": "execute_result"
    }
   ],
   "source": [
    "data.describe()"
   ]
  },
  {
   "cell_type": "markdown",
   "metadata": {},
   "source": [
    "### Class Distribution"
   ]
  },
  {
   "cell_type": "code",
   "execution_count": 5,
   "metadata": {},
   "outputs": [
    {
     "name": "stdout",
     "output_type": "stream",
     "text": [
      "['INFJ' 'ENTP' 'INTP' 'INTJ' 'ENTJ' 'ENFJ' 'INFP' 'ENFP' 'ISFP' 'ISTP'\n",
      " 'ISFJ' 'ISTJ' 'ESTP' 'ESFP' 'ESTJ' 'ESFJ']\n"
     ]
    }
   ],
   "source": [
    "_classes = data.type.unique()\n",
    "print(_classes)"
   ]
  },
  {
   "cell_type": "code",
   "execution_count": 6,
   "metadata": {},
   "outputs": [],
   "source": [
    "def show_class_distribution(data, x=\"type\", figsize=(16,4), title=\"Distribution of Personality Types\", xticks_size=10, palette=\"husl\"):\n",
    "    plt.figure(figsize=figsize)\n",
    "    sns.countplot(x=x, data=data, palette=palette)\n",
    "    plt.xlabel(\"Personality Types\", size=15)\n",
    "    plt.ylabel(\"Counts\", size=15)\n",
    "    plt.xticks(size=xticks_size)\n",
    "    plt.title(title, size=20)\n",
    "    plt.show()"
   ]
  },
  {
   "cell_type": "code",
   "execution_count": 7,
   "metadata": {},
   "outputs": [
    {
     "name": "stderr",
     "output_type": "stream",
     "text": [
      "C:\\Users\\Mithul\\AppData\\Local\\Temp\\ipykernel_14732\\4249258103.py:3: FutureWarning: \n",
      "\n",
      "Passing `palette` without assigning `hue` is deprecated and will be removed in v0.14.0. Assign the `x` variable to `hue` and set `legend=False` for the same effect.\n",
      "\n",
      "  sns.countplot(x=x, data=data, palette=palette)\n"
     ]
    },
    {
     "data": {
      "image/png": "[encoded data removed]",
      "text/plain": [
       "<Figure size 1152x288 with 1 Axes>"
      ]
     },
     "metadata": {
      "needs_background": "light"
     },
     "output_type": "display_data"
    }
   ],
   "source": [
    "show_class_distribution(data, xticks_size=14)"
   ]
  },
  {
   "cell_type": "code",
   "execution_count": 8,
   "metadata": {},
   "outputs": [],
   "source": [
    "def divide_types(df):\n",
    "    df[\"E-I\"] = \"\"\n",
    "    df[\"N-S\"] = \"\"\n",
    "    df[\"F-T\"] = \"\"\n",
    "    df[\"J-P\"] = \"\"\n",
    "    for index, row in df.iterrows():\n",
    "        row[\"E-I\"] = \"E\" if row.type[0] == \"E\" else \"I\"\n",
    "        row[\"N-S\"] = \"N\" if row.type[1] == \"N\" else \"S\"\n",
    "        row[\"F-T\"] = \"F\" if row.type[2] == \"F\" else \"T\"\n",
    "        row[\"J-P\"] = \"J\" if row.type[3] == \"J\" else \"P\"\n",
    "    return df\n",
    "\n",
    "data = divide_types(data)"
   ]
  },
  {
   "cell_type": "code",
   "execution_count": 9,
   "metadata": {},
   "outputs": [
    {
     "name": "stderr",
     "output_type": "stream",
     "text": [
      "C:\\Users\\Mithul\\AppData\\Local\\Temp\\ipykernel_14732\\4249258103.py:3: FutureWarning: \n",
      "\n",
      "Passing `palette` without assigning `hue` is deprecated and will be removed in v0.14.0. Assign the `x` variable to `hue` and set `legend=False` for the same effect.\n",
      "\n",
      "  sns.countplot(x=x, data=data, palette=palette)\n"
     ]
    },
    {
     "data": {
      "image/png": "[encoded data removed]",
      "text/plain": [
       "<Figure size 648x216 with 1 Axes>"
      ]
     },
     "metadata": {
      "needs_background": "light"
     },
     "output_type": "display_data"
    }
   ],
   "source": [
    "show_class_distribution(data, x=\"E-I\", title=\"Distribution of I & E\", figsize=(9,3), xticks_size=20, palette=\"icefire\")"
   ]
  },
  {
   "cell_type": "code",
   "execution_count": 10,
   "metadata": {},
   "outputs": [
    {
     "name": "stderr",
     "output_type": "stream",
     "text": [
      "C:\\Users\\Mithul\\AppData\\Local\\Temp\\ipykernel_14732\\4249258103.py:3: FutureWarning: \n",
      "\n",
      "Passing `palette` without assigning `hue` is deprecated and will be removed in v0.14.0. Assign the `x` variable to `hue` and set `legend=False` for the same effect.\n",
      "\n",
      "  sns.countplot(x=x, data=data, palette=palette)\n"
     ]
    },
    {
     "data": {
      "image/png": "[encoded data removed]",
      "text/plain": [
       "<Figure size 648x216 with 1 Axes>"
      ]
     },
     "metadata": {
      "needs_background": "light"
     },
     "output_type": "display_data"
    }
   ],
   "source": [
    "show_class_distribution(data, x=\"N-S\", title=\"Distribution of N & S\", figsize=(9,3), xticks_size=20, palette=\"cubehelix\")"
   ]
  },
  {
   "cell_type": "code",
   "execution_count": 11,
   "metadata": {},
   "outputs": [
    {
     "name": "stderr",
     "output_type": "stream",
     "text": [
      "C:\\Users\\Mithul\\AppData\\Local\\Temp\\ipykernel_14732\\4249258103.py:3: FutureWarning: \n",
      "\n",
      "Passing `palette` without assigning `hue` is deprecated and will be removed in v0.14.0. Assign the `x` variable to `hue` and set `legend=False` for the same effect.\n",
      "\n",
      "  sns.countplot(x=x, data=data, palette=palette)\n"
     ]
    },
    {
     "data": {
      "image/png": "[encoded data removed]",
      "text/plain": [
       "<Figure size 648x216 with 1 Axes>"
      ]
     },
     "metadata": {
      "needs_background": "light"
     },
     "output_type": "display_data"
    }
   ],
   "source": [
    "show_class_distribution(data, x=\"F-T\", title=\"Distribution of F & T\", figsize=(9,3), xticks_size=20, palette=\"viridis\")"
   ]
  },
  {
   "cell_type": "code",
   "execution_count": 12,
   "metadata": {},
   "outputs": [
    {
     "name": "stderr",
     "output_type": "stream",
     "text": [
      "C:\\Users\\Mithul\\AppData\\Local\\Temp\\ipykernel_14732\\4249258103.py:3: FutureWarning: \n",
      "\n",
      "Passing `palette` without assigning `hue` is deprecated and will be removed in v0.14.0. Assign the `x` variable to `hue` and set `legend=False` for the same effect.\n",
      "\n",
      "  sns.countplot(x=x, data=data, palette=palette)\n"
     ]
    },
    {
     "data": {
      "image/png": "[encoded data removed]",
      "text/plain": [
       "<Figure size 648x216 with 1 Axes>"
      ]
     },
     "metadata": {
      "needs_background": "light"
     },
     "output_type": "display_data"
    }
   ],
   "source": [
    "show_class_distribution(data, x=\"J-P\", title=\"Distribution of J & P\", figsize=(9,3), xticks_size=20, palette=\"flare\")"
   ]
  },
  {
   "cell_type": "markdown",
   "metadata": {},
   "source": [
    "#### sample post"
   ]
  },
  {
   "cell_type": "code",
   "execution_count": 13,
   "metadata": {},
   "outputs": [
    {
     "data": {
      "text/plain": [
       "\"'I tend to build up a collection of things on my desktop that i use frequently and then move them into a folder called  'Everything' from there it get sorted into type and sub type|||i ike to collect odd objects, even at work...a lot of people would call it junk but i like to collect it.  Old unused software? ill take that off your hands :) i have a bunch of old adobe...|||i think its quite normal, i tend to only see my friends in real life every couple of months, as said earlier some people just dont get it but the good ones do :)  Edit: i mostly mean tolerate it...|||where do we go when we sleep? is dreaming another form of being awake? how many more layers of this are there if any?   thoughts about sleep keep me up at night  Edit: sometimes im too scared...|||thanks|||i wish i was free to follow my interests as i desired  i feel as though wishes are meant for impossible things|||by seeing do you mean visual interpreting or seeing as in mentally understanding the concept?|||hello|||i feel as though i am incapable of creating anything   and i wish i could|||i cant stand the interviewer christ that laugh...  is he intj? hmmm  it would be interesting to see an intj on this show, i doubt they would be that interesting to the general public though ...|||know yourself and be yourself|||Do you think Fi or Fe sounds more like me?  which one do you think sounds like you?  Why do you require input from others to know what you are?|||Question: do INTJs lean more towards Alternative Rock then other types of music? And if so, why?   My Answer: well, if you went through all the pages and then sorted all the songs by genre/style...|||sometimes i look at people and i see them , well on the outside at least, doing all these things and saying all these words and i wonder what it would be like to act that way... am i missing out on...|||a lounge huh? what does one do in a lounge?  or is it best not to define it and just enjoy it as is?|||Do it|||went on holiday for just over a month, thought things would change. How naive of me..  feels nice to browse back on this forum here though, its been a while since i surrounded myself with somewhat...|||yes i would say i am, more than physical appearance to an certain degree.  what are they? i am unsure they just generally cant be a terrible person by my standards|||i like to lurk, in my case at least its mostly because i tend to believe i have nothing interesting to contribute to the conversation so why add anything?  logging out to purposely lurk seems like...|||i think id wait for him to swing first before taking further action but i would not  encourage them to take a swing  a part of me wants to fight him though...|||would you say there is complexity in simplicity?|||I normally vote for whoever amuses me the most..  perhaps one day i'll care more  Edit: other than what amuses me at the time, ill vote for whatever would apparently benefit me the most....|||long distance is hard|||INTJ's and what effects their sanity levels  Mental illness|||So i think about which thoughts i wish to express in written format, then i proceed to perform the physical movements necessary to express the required thoughts in whichever medium is required or...|||651762 i got this, seems right to me. I always score intj, extra heavy on the introversion :3|||I like this  https://www.youtube.com/watch?v=e4dT8FJ2GE0  I like the sound, the content/lyrics are not too important, the sound is what i value most. Is it my favourite? probably not, i heard...|||to others maybe, although internally i am acutely aware of any mistakes i have made|||assuming they would listen to me, i would each give them a solo task that leads to the successful completion of the project  how would i make them listen to me? explain that the success of the...|||i am a fan of the idea that a celestial being died and its essence became everything we know, what kind of sacrifice would have to be made to create such wondrous things? (stars, planets, cosmic...|||Nah|||1) Since when do you need a manager present to make returns?? or was it because I work there? - check the company policy on this 2) Why did they want to save my receipt? -not sure, perhaps to...|||i remember my first encounter with this type of music was BOA - Hurricane Venus, saw it played on a starcraft 2 stream round 201011 or something and was kinda hooked. Don't follow/watch it much...|||what happens when this riddle gets solved? what use is this information?   haha i am clearly not a fan of riddles  Edit thoughts: Girlfriend asked me a few riddles and it was infuriating for...|||i kept pressing them to talk about something they didnt want to, i regret it deeply|||It is not hands that summon us. It is desire.  I want nothing to do with that puzzle box. Nope. Nope. Nope|||i used to think life was dull and everything was boring, then i realised that i havent actually done everything so it felt incorrect in thinking that way|||ahh yes the pain of living, its beautiful isnt it?|||i got   Your score for openness was 70%. This is in the moderate range. Your score for conscientiousness was low, at 35%. Your score for Extraversion was low, at 15%. Your score for...|||What do you mean by humanities? i like to think about the direction of the human race as a species and i like to appreciate where weve come from so i guess i love humanities?|||1. Attempt to think less about things 2. Be more decisive and confident in my decisions/thoughts (i cant help but play devils advocate with myself, i guess this ties into number 1) 3. change my...|||Ahh yes that sinking feeling when something goes incredibly wrong or not to plan. How do i get over it? embrace the madness, how are you going to deal with your scenario now with all these new...|||I like to imagine it kinda like this 629346  except the ring is a billion times higher and nearly impossible to scale and then in the middle is a beautiful garden and house where i like to chill....|||if you look at the first sentence of most of them you can gather the feeling they are trying to portray, followed by a rather nice scenario.  So yes i do feel those feels, but not for those...|||I think its the introversion crossed with the feels that does it for me.|||first encountered mbti?  hmm was a personality test i took in highschool, didnt care or even pay attention to it until later. stumbled upon it somehow and was interested  Im not too into it as...|||Treat Yo Self|||Question: Can INTJs be try-hards?  Answer: sure|||No im not, our values of friendship are clearly different. An emotional investment of any kind is a big deal to me, a HUGE deal, to have it not appreciated and/or reciprocated is soul destroying. ...|||petty? perhaps, but why bother with someone who isnt going to give me what i want when i can just move on? what a waste of my time and emotional energy.  Hopefully for you this friend of yours is...'\""
      ]
     },
     "execution_count": 13,
     "metadata": {},
     "output_type": "execute_result"
    }
   ],
   "source": [
    "data.loc[7, \"posts\"]"
   ]
  },
  {
   "cell_type": "markdown",
   "metadata": {},
   "source": [
    "### Cleaning"
   ]
  },
  {
   "cell_type": "code",
   "execution_count": 14,
   "metadata": {},
   "outputs": [],
   "source": [
    "def fix_contractions(df, column_name = \"posts\", new_column=\"cleaned_post\"):\n",
    "    df[new_column] = df[column_name].apply(lambda x: contractions.fix(x))\n",
    "    return df\n",
    "\n",
    "data = fix_contractions(data)"
   ]
  },
  {
   "cell_type": "code",
   "execution_count": 15,
   "metadata": {},
   "outputs": [],
   "source": [
    "def clean_data(df, column_name = \"cleaned_post\"):\n",
    "    df[column_name] = df[column_name].apply(lambda x: x.lower())\n",
    "    df[column_name] = df[column_name].apply(lambda x: re.sub(r'@([a-zA-Z0-9_]{1,50})', '', x))\n",
    "    df[column_name] = df[column_name].apply(lambda x: re.sub(r'#([a-zA-Z0-9_]{1,50})', '', x))\n",
    "    df[column_name] = df[column_name].apply(lambda x: re.sub(r'http[s]?://\\S+', '', x))\n",
    "    df[column_name] = df[column_name].apply(lambda x: re.sub(r'[^A-Za-z]+', ' ', x))\n",
    "    df[column_name] = df[column_name].apply(lambda x: re.sub(r' +', ' ', x))\n",
    "    df[column_name] = df[column_name].apply(lambda x: \" \".join([word for word in x.split() if not len(word) <3]))\n",
    "    return df\n",
    "\n",
    "data = clean_data(data)"
   ]
  },
  {
   "cell_type": "markdown",
   "metadata": {},
   "source": [
    "#### cleaned post"
   ]
  },
  {
   "cell_type": "code",
   "execution_count": 16,
   "metadata": {},
   "outputs": [
    {
     "data": {
      "text/plain": [
       "'tend build collection things desktop that use frequently and then move them into folder called everything from there get sorted into type and sub type ike collect odd objects even work lot people would call junk but like collect old unused software ill take that off your hands have bunch old adobe think its quite normal tend only see friends real life every couple months said earlier some people just not get but the good ones edit mostly mean tolerate where when sleep dreaming another form being awake how many more layers this are there any thoughts about sleep keep night edit sometimes too scared thanks wish was free follow interests desired feel though wishes are meant for impossible things seeing you mean visual interpreting seeing mentally understanding the concept hello feel though incapable creating anything and wish could cannot stand the interviewer christ that laugh intj hmmm would interesting see intj this show doubt they would that interesting the general public though know yourself and yourself you think sounds more like which one you think sounds like you why you require input from others know what you are question intjs lean more towards alternative rock then other types music and why answer well you went through all the pages and then sorted all the songs genre style sometimes look people and see them well the outside least doing all these things and saying all these words and wonder what would like act that way missing out lounge huh what does one lounge best not define and just enjoy went holiday for just over month thought things would change how naive feels nice browse back this forum here though its been while since surrounded myself with somewhat yes would say more than physical appearance certain degree what are they unsure they just generally cannot terrible person standards like lurk case least its mostly because tend believe have nothing interesting contribute the conversation why add anything logging out purposely lurk seems like think wait for him swing first before taking further action but would not encourage them take swing part wants fight him though would you say there complexity simplicity normally vote for whoever amuses the most perhaps one day will care more edit other than what amuses the time ill vote for whatever would apparently benefit the most long distance hard intj and what effects their sanity levels mental illness think about which thoughts wish express written format then proceed perform the physical movements necessary express the required thoughts whichever medium required got this seems right always score intj extra heavy the introversion like this like the sound the content lyrics are not too important the sound what value most favourite probably not heard others maybe although internally acutely aware any mistakes have made assuming they would listen would each give them solo task that leads the successful completion the project how would make them listen explain that the success the fan the idea that celestial being died and its essence became everything know what kind sacrifice would have made create such wondrous things stars planets cosmic nah since when you need manager present make returns was because work there check the company policy this why did they want save receipt not sure perhaps remember first encounter with this type music was boa hurricane venus saw played starcraft stream round something and was kind hooked not follow watch much what happens when this riddle gets solved what use this information haha clearly not fan riddles edit thoughts girlfriend asked few riddles and was infuriating for kept pressing them talk about something they did not want regret deeply not hands that summon desire want nothing with that puzzle box nope nope nope used think life was dull and everything was boring then realised that have not actually done everything felt incorrect thinking that way ahh yes the pain living its beautiful not got your score for openness was this the moderate range your score for conscientiousness was low your score for extraversion was low your score for what you mean humanities like think about the direction the human race species and like appreciate where have come from guess love humanities attempt think less about things more decisive and confident decisions thoughts cannot help but play devils advocate with myself guess this ties into number change ahh yes that sinking feeling when something goes incredibly wrong not plan how get over embrace the madness how are you going deal with your scenario now with all these new like imagine kind like this except the ring billion times higher and nearly impossible scale and then the middle beautiful garden and house where like chill you look the first sentence most them you can gather the feeling they are trying portray followed rather nice scenario yes feel those feels but not for those think its the introversion crossed with the feels that does for first encountered mbti hmm was personality test took highschool did not care even pay attention until later stumbled upon somehow and was interested not too into treat self question can intjs try hards answer sure not our values friendship are clearly different emotional investment any kind big deal huge deal have not appreciated and reciprocated soul destroying petty perhaps but why bother with someone who not going give what want when can just move what waste time and emotional energy hopefully for you this friend yours'"
      ]
     },
     "execution_count": 16,
     "metadata": {},
     "output_type": "execute_result"
    }
   ],
   "source": [
    "data.loc[7,\"cleaned_post\"]"
   ]
  },
  {
   "cell_type": "code",
   "execution_count": 17,
   "metadata": {},
   "outputs": [
    {
     "data": {
      "text/html": [
       "<div>\n",
       "<style scoped>\n",
       "    .dataframe tbody tr th:only-of-type {\n",
       "        vertical-align: middle;\n",
       "    }\n",
       "\n",
       "    .dataframe tbody tr th {\n",
       "        vertical-align: top;\n",
       "    }\n",
       "\n",
       "    .dataframe thead th {\n",
       "        text-align: right;\n",
       "    }\n",
       "</style>\n",
       "<table border=\"1\" class=\"dataframe\">\n",
       "  <thead>\n",
       "    <tr style=\"text-align: right;\">\n",
       "      <th></th>\n",
       "      <th>type</th>\n",
       "      <th>posts</th>\n",
       "      <th>E-I</th>\n",
       "      <th>N-S</th>\n",
       "      <th>F-T</th>\n",
       "      <th>J-P</th>\n",
       "      <th>cleaned_post</th>\n",
       "      <th>words_count</th>\n",
       "    </tr>\n",
       "  </thead>\n",
       "  <tbody>\n",
       "    <tr>\n",
       "      <th>0</th>\n",
       "      <td>INFJ</td>\n",
       "      <td>'http://www.youtube.com/watch?v=qsXHcwe3krw|||...</td>\n",
       "      <td>I</td>\n",
       "      <td>N</td>\n",
       "      <td>F</td>\n",
       "      <td>J</td>\n",
       "      <td>and intj moments sportscenter not top ten play...</td>\n",
       "      <td>454</td>\n",
       "    </tr>\n",
       "    <tr>\n",
       "      <th>1</th>\n",
       "      <td>ENTP</td>\n",
       "      <td>'I'm finding the lack of me in these posts ver...</td>\n",
       "      <td>E</td>\n",
       "      <td>N</td>\n",
       "      <td>T</td>\n",
       "      <td>P</td>\n",
       "      <td>finding the lack these posts very alarming sex...</td>\n",
       "      <td>874</td>\n",
       "    </tr>\n",
       "    <tr>\n",
       "      <th>2</th>\n",
       "      <td>INTP</td>\n",
       "      <td>'Good one  _____   https://www.youtube.com/wat...</td>\n",
       "      <td>I</td>\n",
       "      <td>N</td>\n",
       "      <td>T</td>\n",
       "      <td>P</td>\n",
       "      <td>good one course which say know that blessing a...</td>\n",
       "      <td>653</td>\n",
       "    </tr>\n",
       "    <tr>\n",
       "      <th>3</th>\n",
       "      <td>INTJ</td>\n",
       "      <td>'Dear INTP,   I enjoyed our conversation the o...</td>\n",
       "      <td>I</td>\n",
       "      <td>N</td>\n",
       "      <td>T</td>\n",
       "      <td>J</td>\n",
       "      <td>dear intp enjoyed our conversation the other d...</td>\n",
       "      <td>820</td>\n",
       "    </tr>\n",
       "    <tr>\n",
       "      <th>4</th>\n",
       "      <td>ENTJ</td>\n",
       "      <td>'You're fired.|||That's another silly misconce...</td>\n",
       "      <td>E</td>\n",
       "      <td>N</td>\n",
       "      <td>T</td>\n",
       "      <td>J</td>\n",
       "      <td>you are fired that another silly misconception...</td>\n",
       "      <td>782</td>\n",
       "    </tr>\n",
       "  </tbody>\n",
       "</table>\n",
       "</div>"
      ],
      "text/plain": [
       "   type                                              posts E-I N-S F-T J-P  \\\n",
       "0  INFJ  'http://www.youtube.com/watch?v=qsXHcwe3krw|||...   I   N   F   J   \n",
       "1  ENTP  'I'm finding the lack of me in these posts ver...   E   N   T   P   \n",
       "2  INTP  'Good one  _____   https://www.youtube.com/wat...   I   N   T   P   \n",
       "3  INTJ  'Dear INTP,   I enjoyed our conversation the o...   I   N   T   J   \n",
       "4  ENTJ  'You're fired.|||That's another silly misconce...   E   N   T   J   \n",
       "\n",
       "                                        cleaned_post  words_count  \n",
       "0  and intj moments sportscenter not top ten play...          454  \n",
       "1  finding the lack these posts very alarming sex...          874  \n",
       "2  good one course which say know that blessing a...          653  \n",
       "3  dear intp enjoyed our conversation the other d...          820  \n",
       "4  you are fired that another silly misconception...          782  "
      ]
     },
     "execution_count": 17,
     "metadata": {},
     "output_type": "execute_result"
    }
   ],
   "source": [
    "data[\"words_count\"] = data[\"cleaned_post\"].apply(lambda x: len(x.split()))\n",
    "data.head(5)"
   ]
  },
  {
   "cell_type": "code",
   "execution_count": 18,
   "metadata": {},
   "outputs": [],
   "source": [
    "def plot_counts(df, column, xlabel):\n",
    "    fig = plt.figure()\n",
    "    plt.xlabel(xlabel)\n",
    "    plt.ylabel(\"Frequency\")\n",
    "    df[column].plot.hist(bins=25)"
   ]
  },
  {
   "cell_type": "code",
   "execution_count": 19,
   "metadata": {},
   "outputs": [
    {
     "data": {
      "image/png": "[encoded data removed]",
      "text/plain": [
       "<Figure size 432x288 with 1 Axes>"
      ]
     },
     "metadata": {
      "needs_background": "light"
     },
     "output_type": "display_data"
    }
   ],
   "source": [
    "plot_counts(data, column=\"words_count\", xlabel=\"Words Count\")"
   ]
  },
  {
   "cell_type": "code",
   "execution_count": 20,
   "metadata": {},
   "outputs": [
    {
     "data": {
      "text/html": [
       "<div>\n",
       "<style scoped>\n",
       "    .dataframe tbody tr th:only-of-type {\n",
       "        vertical-align: middle;\n",
       "    }\n",
       "\n",
       "    .dataframe tbody tr th {\n",
       "        vertical-align: top;\n",
       "    }\n",
       "\n",
       "    .dataframe thead th {\n",
       "        text-align: right;\n",
       "    }\n",
       "</style>\n",
       "<table border=\"1\" class=\"dataframe\">\n",
       "  <thead>\n",
       "    <tr style=\"text-align: right;\">\n",
       "      <th></th>\n",
       "      <th>type</th>\n",
       "      <th>posts</th>\n",
       "      <th>E-I</th>\n",
       "      <th>N-S</th>\n",
       "      <th>F-T</th>\n",
       "      <th>J-P</th>\n",
       "      <th>cleaned_post</th>\n",
       "      <th>words_count</th>\n",
       "      <th>char_count</th>\n",
       "    </tr>\n",
       "  </thead>\n",
       "  <tbody>\n",
       "    <tr>\n",
       "      <th>0</th>\n",
       "      <td>INFJ</td>\n",
       "      <td>'http://www.youtube.com/watch?v=qsXHcwe3krw|||...</td>\n",
       "      <td>I</td>\n",
       "      <td>N</td>\n",
       "      <td>F</td>\n",
       "      <td>J</td>\n",
       "      <td>and intj moments sportscenter not top ten play...</td>\n",
       "      <td>454</td>\n",
       "      <td>2764</td>\n",
       "    </tr>\n",
       "    <tr>\n",
       "      <th>1</th>\n",
       "      <td>ENTP</td>\n",
       "      <td>'I'm finding the lack of me in these posts ver...</td>\n",
       "      <td>E</td>\n",
       "      <td>N</td>\n",
       "      <td>T</td>\n",
       "      <td>P</td>\n",
       "      <td>finding the lack these posts very alarming sex...</td>\n",
       "      <td>874</td>\n",
       "      <td>5104</td>\n",
       "    </tr>\n",
       "    <tr>\n",
       "      <th>2</th>\n",
       "      <td>INTP</td>\n",
       "      <td>'Good one  _____   https://www.youtube.com/wat...</td>\n",
       "      <td>I</td>\n",
       "      <td>N</td>\n",
       "      <td>T</td>\n",
       "      <td>P</td>\n",
       "      <td>good one course which say know that blessing a...</td>\n",
       "      <td>653</td>\n",
       "      <td>4000</td>\n",
       "    </tr>\n",
       "    <tr>\n",
       "      <th>3</th>\n",
       "      <td>INTJ</td>\n",
       "      <td>'Dear INTP,   I enjoyed our conversation the o...</td>\n",
       "      <td>I</td>\n",
       "      <td>N</td>\n",
       "      <td>T</td>\n",
       "      <td>J</td>\n",
       "      <td>dear intp enjoyed our conversation the other d...</td>\n",
       "      <td>820</td>\n",
       "      <td>4938</td>\n",
       "    </tr>\n",
       "    <tr>\n",
       "      <th>4</th>\n",
       "      <td>ENTJ</td>\n",
       "      <td>'You're fired.|||That's another silly misconce...</td>\n",
       "      <td>E</td>\n",
       "      <td>N</td>\n",
       "      <td>T</td>\n",
       "      <td>J</td>\n",
       "      <td>you are fired that another silly misconception...</td>\n",
       "      <td>782</td>\n",
       "      <td>4692</td>\n",
       "    </tr>\n",
       "  </tbody>\n",
       "</table>\n",
       "</div>"
      ],
      "text/plain": [
       "   type                                              posts E-I N-S F-T J-P  \\\n",
       "0  INFJ  'http://www.youtube.com/watch?v=qsXHcwe3krw|||...   I   N   F   J   \n",
       "1  ENTP  'I'm finding the lack of me in these posts ver...   E   N   T   P   \n",
       "2  INTP  'Good one  _____   https://www.youtube.com/wat...   I   N   T   P   \n",
       "3  INTJ  'Dear INTP,   I enjoyed our conversation the o...   I   N   T   J   \n",
       "4  ENTJ  'You're fired.|||That's another silly misconce...   E   N   T   J   \n",
       "\n",
       "                                        cleaned_post  words_count  char_count  \n",
       "0  and intj moments sportscenter not top ten play...          454        2764  \n",
       "1  finding the lack these posts very alarming sex...          874        5104  \n",
       "2  good one course which say know that blessing a...          653        4000  \n",
       "3  dear intp enjoyed our conversation the other d...          820        4938  \n",
       "4  you are fired that another silly misconception...          782        4692  "
      ]
     },
     "execution_count": 20,
     "metadata": {},
     "output_type": "execute_result"
    }
   ],
   "source": [
    "data[\"char_count\"] = data[\"cleaned_post\"].apply(lambda x: len(x))\n",
    "data.head(5)"
   ]
  },
  {
   "cell_type": "code",
   "execution_count": 21,
   "metadata": {},
   "outputs": [
    {
     "data": {
      "image/png": "[encoded data removed]",
      "text/plain": [
       "<Figure size 432x288 with 1 Axes>"
      ]
     },
     "metadata": {
      "needs_background": "light"
     },
     "output_type": "display_data"
    }
   ],
   "source": [
    "plot_counts(data, column=\"char_count\", xlabel=\"Character Count\")"
   ]
  },
  {
   "cell_type": "markdown",
   "metadata": {},
   "source": [
    "### Most Frequent Words"
   ]
  },
  {
   "cell_type": "code",
   "execution_count": 22,
   "metadata": {},
   "outputs": [],
   "source": [
    "stopword_list = stopwords.words(\"english\")"
   ]
  },
  {
   "cell_type": "code",
   "execution_count": 23,
   "metadata": {},
   "outputs": [],
   "source": [
    "def get_most_frequent(data, stop_words, column=\"cleaned_post\", top=25):\n",
    "    df = data[column].apply(lambda x: \" \".join([word for word in x.split() if not word in stop_words]))\n",
    "    counter = Counter(\" \".join(df).split())\n",
    "    return counter.most_common(top)"
   ]
  },
  {
   "cell_type": "code",
   "execution_count": 24,
   "metadata": {},
   "outputs": [
    {
     "data": {
      "text/plain": [
       "[('like', 69678),\n",
       " ('would', 52964),\n",
       " ('think', 49837),\n",
       " ('people', 48150),\n",
       " ('know', 38174),\n",
       " ('one', 37173),\n",
       " ('really', 35343),\n",
       " ('get', 30806),\n",
       " ('time', 27610),\n",
       " ('feel', 23337)]"
      ]
     },
     "execution_count": 24,
     "metadata": {},
     "output_type": "execute_result"
    }
   ],
   "source": [
    "most_frequents = get_most_frequent(data, stopword_list)\n",
    "most_frequents[:10]"
   ]
  },
  {
   "cell_type": "code",
   "execution_count": 25,
   "metadata": {},
   "outputs": [],
   "source": [
    "def show_most_frequents(most_frequent_words, top=20):\n",
    "    most_frequent_df = pd.DataFrame(most_frequent_words)    \n",
    "    plt.figure(figsize=(16,4))\n",
    "    my_cmap = plt.get_cmap(\"viridis\")\n",
    "    plt.bar(x=most_frequent_df.iloc[:top, 0], height=most_frequent_df.iloc[:top, 1], color=\"slateblue\")\n",
    "    plt.xlabel(\"Words\", size=17)\n",
    "    plt.ylabel(\"Counts\", size=17)\n",
    "    plt.title(\"Most Frequent Words\", size = 20)\n",
    "    plt.show()"
   ]
  },
  {
   "cell_type": "code",
   "execution_count": 26,
   "metadata": {},
   "outputs": [
    {
     "data": {
      "image/png": "[encoded data removed]",
      "text/plain": [
       "<Figure size 1152x288 with 1 Axes>"
      ]
     },
     "metadata": {
      "needs_background": "light"
     },
     "output_type": "display_data"
    }
   ],
   "source": [
    "show_most_frequents(most_frequents)"
   ]
  },
  {
   "cell_type": "markdown",
   "metadata": {},
   "source": [
    "### N-Grams"
   ]
  },
  {
   "cell_type": "code",
   "execution_count": 27,
   "metadata": {},
   "outputs": [],
   "source": [
    "def get_ngrams(data, n_gram, new_column, column=\"cleaned_post\"):\n",
    "    data[\"tokenized\"]  = data[column].apply(lambda x: x.split())\n",
    "    data[\"sw_removal\"] = data[\"tokenized\"].apply(lambda x: [y for y in x if not y in stopword_list])\n",
    "    data[new_column]   = data[\"sw_removal\"].apply(lambda x: list(ngrams(x, n_gram)))\n",
    "    data.drop(columns  = [\"tokenized\", \"sw_removal\"], inplace=True)\n",
    "    return data"
   ]
  },
  {
   "cell_type": "code",
   "execution_count": 28,
   "metadata": {},
   "outputs": [
    {
     "data": {
      "text/html": [
       "<div>\n",
       "<style scoped>\n",
       "    .dataframe tbody tr th:only-of-type {\n",
       "        vertical-align: middle;\n",
       "    }\n",
       "\n",
       "    .dataframe tbody tr th {\n",
       "        vertical-align: top;\n",
       "    }\n",
       "\n",
       "    .dataframe thead th {\n",
       "        text-align: right;\n",
       "    }\n",
       "</style>\n",
       "<table border=\"1\" class=\"dataframe\">\n",
       "  <thead>\n",
       "    <tr style=\"text-align: right;\">\n",
       "      <th></th>\n",
       "      <th>type</th>\n",
       "      <th>posts</th>\n",
       "      <th>E-I</th>\n",
       "      <th>N-S</th>\n",
       "      <th>F-T</th>\n",
       "      <th>J-P</th>\n",
       "      <th>cleaned_post</th>\n",
       "      <th>words_count</th>\n",
       "      <th>char_count</th>\n",
       "      <th>bigrams</th>\n",
       "    </tr>\n",
       "  </thead>\n",
       "  <tbody>\n",
       "    <tr>\n",
       "      <th>0</th>\n",
       "      <td>INFJ</td>\n",
       "      <td>'http://www.youtube.com/watch?v=qsXHcwe3krw|||...</td>\n",
       "      <td>I</td>\n",
       "      <td>N</td>\n",
       "      <td>F</td>\n",
       "      <td>J</td>\n",
       "      <td>and intj moments sportscenter not top ten play...</td>\n",
       "      <td>454</td>\n",
       "      <td>2764</td>\n",
       "      <td>[(intj, moments), (moments, sportscenter), (sp...</td>\n",
       "    </tr>\n",
       "    <tr>\n",
       "      <th>1</th>\n",
       "      <td>ENTP</td>\n",
       "      <td>'I'm finding the lack of me in these posts ver...</td>\n",
       "      <td>E</td>\n",
       "      <td>N</td>\n",
       "      <td>T</td>\n",
       "      <td>P</td>\n",
       "      <td>finding the lack these posts very alarming sex...</td>\n",
       "      <td>874</td>\n",
       "      <td>5104</td>\n",
       "      <td>[(finding, lack), (lack, posts), (posts, alarm...</td>\n",
       "    </tr>\n",
       "    <tr>\n",
       "      <th>2</th>\n",
       "      <td>INTP</td>\n",
       "      <td>'Good one  _____   https://www.youtube.com/wat...</td>\n",
       "      <td>I</td>\n",
       "      <td>N</td>\n",
       "      <td>T</td>\n",
       "      <td>P</td>\n",
       "      <td>good one course which say know that blessing a...</td>\n",
       "      <td>653</td>\n",
       "      <td>4000</td>\n",
       "      <td>[(good, one), (one, course), (course, say), (s...</td>\n",
       "    </tr>\n",
       "    <tr>\n",
       "      <th>3</th>\n",
       "      <td>INTJ</td>\n",
       "      <td>'Dear INTP,   I enjoyed our conversation the o...</td>\n",
       "      <td>I</td>\n",
       "      <td>N</td>\n",
       "      <td>T</td>\n",
       "      <td>J</td>\n",
       "      <td>dear intp enjoyed our conversation the other d...</td>\n",
       "      <td>820</td>\n",
       "      <td>4938</td>\n",
       "      <td>[(dear, intp), (intp, enjoyed), (enjoyed, conv...</td>\n",
       "    </tr>\n",
       "    <tr>\n",
       "      <th>4</th>\n",
       "      <td>ENTJ</td>\n",
       "      <td>'You're fired.|||That's another silly misconce...</td>\n",
       "      <td>E</td>\n",
       "      <td>N</td>\n",
       "      <td>T</td>\n",
       "      <td>J</td>\n",
       "      <td>you are fired that another silly misconception...</td>\n",
       "      <td>782</td>\n",
       "      <td>4692</td>\n",
       "      <td>[(fired, another), (another, silly), (silly, m...</td>\n",
       "    </tr>\n",
       "  </tbody>\n",
       "</table>\n",
       "</div>"
      ],
      "text/plain": [
       "   type                                              posts E-I N-S F-T J-P  \\\n",
       "0  INFJ  'http://www.youtube.com/watch?v=qsXHcwe3krw|||...   I   N   F   J   \n",
       "1  ENTP  'I'm finding the lack of me in these posts ver...   E   N   T   P   \n",
       "2  INTP  'Good one  _____   https://www.youtube.com/wat...   I   N   T   P   \n",
       "3  INTJ  'Dear INTP,   I enjoyed our conversation the o...   I   N   T   J   \n",
       "4  ENTJ  'You're fired.|||That's another silly misconce...   E   N   T   J   \n",
       "\n",
       "                                        cleaned_post  words_count  char_count  \\\n",
       "0  and intj moments sportscenter not top ten play...          454        2764   \n",
       "1  finding the lack these posts very alarming sex...          874        5104   \n",
       "2  good one course which say know that blessing a...          653        4000   \n",
       "3  dear intp enjoyed our conversation the other d...          820        4938   \n",
       "4  you are fired that another silly misconception...          782        4692   \n",
       "\n",
       "                                             bigrams  \n",
       "0  [(intj, moments), (moments, sportscenter), (sp...  \n",
       "1  [(finding, lack), (lack, posts), (posts, alarm...  \n",
       "2  [(good, one), (one, course), (course, say), (s...  \n",
       "3  [(dear, intp), (intp, enjoyed), (enjoyed, conv...  \n",
       "4  [(fired, another), (another, silly), (silly, m...  "
      ]
     },
     "execution_count": 28,
     "metadata": {},
     "output_type": "execute_result"
    }
   ],
   "source": [
    "data = get_ngrams(data, n_gram=2, new_column=\"bigrams\")\n",
    "data.head()"
   ]
  },
  {
   "cell_type": "code",
   "execution_count": 29,
   "metadata": {},
   "outputs": [
    {
     "data": {
      "text/html": [
       "<div>\n",
       "<style scoped>\n",
       "    .dataframe tbody tr th:only-of-type {\n",
       "        vertical-align: middle;\n",
       "    }\n",
       "\n",
       "    .dataframe tbody tr th {\n",
       "        vertical-align: top;\n",
       "    }\n",
       "\n",
       "    .dataframe thead th {\n",
       "        text-align: right;\n",
       "    }\n",
       "</style>\n",
       "<table border=\"1\" class=\"dataframe\">\n",
       "  <thead>\n",
       "    <tr style=\"text-align: right;\">\n",
       "      <th></th>\n",
       "      <th>type</th>\n",
       "      <th>posts</th>\n",
       "      <th>E-I</th>\n",
       "      <th>N-S</th>\n",
       "      <th>F-T</th>\n",
       "      <th>J-P</th>\n",
       "      <th>cleaned_post</th>\n",
       "      <th>words_count</th>\n",
       "      <th>char_count</th>\n",
       "      <th>bigrams</th>\n",
       "      <th>trigrams</th>\n",
       "    </tr>\n",
       "  </thead>\n",
       "  <tbody>\n",
       "    <tr>\n",
       "      <th>0</th>\n",
       "      <td>INFJ</td>\n",
       "      <td>'http://www.youtube.com/watch?v=qsXHcwe3krw|||...</td>\n",
       "      <td>I</td>\n",
       "      <td>N</td>\n",
       "      <td>F</td>\n",
       "      <td>J</td>\n",
       "      <td>and intj moments sportscenter not top ten play...</td>\n",
       "      <td>454</td>\n",
       "      <td>2764</td>\n",
       "      <td>[(intj, moments), (moments, sportscenter), (sp...</td>\n",
       "      <td>[(intj, moments, sportscenter), (moments, spor...</td>\n",
       "    </tr>\n",
       "    <tr>\n",
       "      <th>1</th>\n",
       "      <td>ENTP</td>\n",
       "      <td>'I'm finding the lack of me in these posts ver...</td>\n",
       "      <td>E</td>\n",
       "      <td>N</td>\n",
       "      <td>T</td>\n",
       "      <td>P</td>\n",
       "      <td>finding the lack these posts very alarming sex...</td>\n",
       "      <td>874</td>\n",
       "      <td>5104</td>\n",
       "      <td>[(finding, lack), (lack, posts), (posts, alarm...</td>\n",
       "      <td>[(finding, lack, posts), (lack, posts, alarmin...</td>\n",
       "    </tr>\n",
       "    <tr>\n",
       "      <th>2</th>\n",
       "      <td>INTP</td>\n",
       "      <td>'Good one  _____   https://www.youtube.com/wat...</td>\n",
       "      <td>I</td>\n",
       "      <td>N</td>\n",
       "      <td>T</td>\n",
       "      <td>P</td>\n",
       "      <td>good one course which say know that blessing a...</td>\n",
       "      <td>653</td>\n",
       "      <td>4000</td>\n",
       "      <td>[(good, one), (one, course), (course, say), (s...</td>\n",
       "      <td>[(good, one, course), (one, course, say), (cou...</td>\n",
       "    </tr>\n",
       "    <tr>\n",
       "      <th>3</th>\n",
       "      <td>INTJ</td>\n",
       "      <td>'Dear INTP,   I enjoyed our conversation the o...</td>\n",
       "      <td>I</td>\n",
       "      <td>N</td>\n",
       "      <td>T</td>\n",
       "      <td>J</td>\n",
       "      <td>dear intp enjoyed our conversation the other d...</td>\n",
       "      <td>820</td>\n",
       "      <td>4938</td>\n",
       "      <td>[(dear, intp), (intp, enjoyed), (enjoyed, conv...</td>\n",
       "      <td>[(dear, intp, enjoyed), (intp, enjoyed, conver...</td>\n",
       "    </tr>\n",
       "    <tr>\n",
       "      <th>4</th>\n",
       "      <td>ENTJ</td>\n",
       "      <td>'You're fired.|||That's another silly misconce...</td>\n",
       "      <td>E</td>\n",
       "      <td>N</td>\n",
       "      <td>T</td>\n",
       "      <td>J</td>\n",
       "      <td>you are fired that another silly misconception...</td>\n",
       "      <td>782</td>\n",
       "      <td>4692</td>\n",
       "      <td>[(fired, another), (another, silly), (silly, m...</td>\n",
       "      <td>[(fired, another, silly), (another, silly, mis...</td>\n",
       "    </tr>\n",
       "  </tbody>\n",
       "</table>\n",
       "</div>"
      ],
      "text/plain": [
       "   type                                              posts E-I N-S F-T J-P  \\\n",
       "0  INFJ  'http://www.youtube.com/watch?v=qsXHcwe3krw|||...   I   N   F   J   \n",
       "1  ENTP  'I'm finding the lack of me in these posts ver...   E   N   T   P   \n",
       "2  INTP  'Good one  _____   https://www.youtube.com/wat...   I   N   T   P   \n",
       "3  INTJ  'Dear INTP,   I enjoyed our conversation the o...   I   N   T   J   \n",
       "4  ENTJ  'You're fired.|||That's another silly misconce...   E   N   T   J   \n",
       "\n",
       "                                        cleaned_post  words_count  char_count  \\\n",
       "0  and intj moments sportscenter not top ten play...          454        2764   \n",
       "1  finding the lack these posts very alarming sex...          874        5104   \n",
       "2  good one course which say know that blessing a...          653        4000   \n",
       "3  dear intp enjoyed our conversation the other d...          820        4938   \n",
       "4  you are fired that another silly misconception...          782        4692   \n",
       "\n",
       "                                             bigrams  \\\n",
       "0  [(intj, moments), (moments, sportscenter), (sp...   \n",
       "1  [(finding, lack), (lack, posts), (posts, alarm...   \n",
       "2  [(good, one), (one, course), (course, say), (s...   \n",
       "3  [(dear, intp), (intp, enjoyed), (enjoyed, conv...   \n",
       "4  [(fired, another), (another, silly), (silly, m...   \n",
       "\n",
       "                                            trigrams  \n",
       "0  [(intj, moments, sportscenter), (moments, spor...  \n",
       "1  [(finding, lack, posts), (lack, posts, alarmin...  \n",
       "2  [(good, one, course), (one, course, say), (cou...  \n",
       "3  [(dear, intp, enjoyed), (intp, enjoyed, conver...  \n",
       "4  [(fired, another, silly), (another, silly, mis...  "
      ]
     },
     "execution_count": 29,
     "metadata": {},
     "output_type": "execute_result"
    }
   ],
   "source": [
    "data = get_ngrams(data, n_gram=3, new_column=\"trigrams\")\n",
    "data.head()"
   ]
  },
  {
   "cell_type": "code",
   "execution_count": 30,
   "metadata": {},
   "outputs": [],
   "source": [
    "def most_common_ngram(data, column, top=20):\n",
    "    temp = []\n",
    "    for index, row in data.iterrows():\n",
    "        temp += row[column]\n",
    "    most_common = Counter(temp).most_common(top)\n",
    "    return most_common"
   ]
  },
  {
   "cell_type": "code",
   "execution_count": 31,
   "metadata": {},
   "outputs": [],
   "source": [
    "def plot_n_grams(ngrams, title, top=20):\n",
    "    ngram_df = pd.DataFrame(ngrams)\n",
    "    ngram_df.iloc[:, 0] = ngram_df.iloc[:,0].astype(str)\n",
    "    plt.figure(figsize=(7,7))\n",
    "    plt.barh(y=ngram_df.iloc[:top, 0], width=ngram_df.iloc[:top, 1])\n",
    "    plt.xlabel(\"Counts\", size=17)\n",
    "    plt.ylabel(\"Pairs\", size=17)\n",
    "    plt.title(title, size = 20)\n",
    "    plt.show() "
   ]
  },
  {
   "cell_type": "code",
   "execution_count": 32,
   "metadata": {},
   "outputs": [
    {
     "data": {
      "text/plain": [
       "[(('feel', 'like'), 5642),\n",
       " (('would', 'say'), 4073),\n",
       " (('would', 'like'), 3429),\n",
       " (('sounds', 'like'), 2606),\n",
       " (('pretty', 'much'), 2409),\n",
       " (('high', 'school'), 2216),\n",
       " (('even', 'though'), 1922),\n",
       " (('seems', 'like'), 1902),\n",
       " (('best', 'friend'), 1692),\n",
       " (('really', 'like'), 1576),\n",
       " (('think', 'would'), 1573),\n",
       " (('get', 'along'), 1551),\n",
       " (('years', 'ago'), 1460),\n",
       " (('long', 'time'), 1459),\n",
       " (('using', 'tapatalk'), 1376),\n",
       " (('personality', 'type'), 1337),\n",
       " (('someone', 'else'), 1272),\n",
       " (('many', 'people'), 1270),\n",
       " (('something', 'like'), 1267),\n",
       " (('people', 'think'), 1219)]"
      ]
     },
     "execution_count": 32,
     "metadata": {},
     "output_type": "execute_result"
    }
   ],
   "source": [
    "bigrams_most_common = most_common_ngram(data, \"bigrams\")\n",
    "bigrams_most_common"
   ]
  },
  {
   "cell_type": "code",
   "execution_count": 33,
   "metadata": {},
   "outputs": [
    {
     "data": {
      "image/png": "[encoded data removed]",
      "text/plain": [
       "<Figure size 504x504 with 1 Axes>"
      ]
     },
     "metadata": {
      "needs_background": "light"
     },
     "output_type": "display_data"
    }
   ],
   "source": [
    "plot_n_grams(bigrams_most_common, title=\"Most Frequent Bigrams\")"
   ]
  },
  {
   "cell_type": "code",
   "execution_count": 34,
   "metadata": {},
   "outputs": [
    {
     "data": {
      "text/plain": [
       "[(('sent', 'iphone', 'using'), 702),\n",
       " (('iphone', 'using', 'tapatalk'), 686),\n",
       " (('sent', 'using', 'tapatalk'), 331),\n",
       " (('one', 'best', 'friends'), 280),\n",
       " (('get', 'along', 'well'), 253),\n",
       " (('sometimes', 'feel', 'like'), 207),\n",
       " (('would', 'like', 'know'), 192),\n",
       " (('long', 'time', 'ago'), 183),\n",
       " (('low', 'self', 'esteem'), 173),\n",
       " (('anything', 'may', 'affect'), 173),\n",
       " (('may', 'affect', 'way'), 171),\n",
       " (('affect', 'way', 'answer'), 168),\n",
       " (('yes', 'yes', 'yes'), 168),\n",
       " (('spend', 'lot', 'time'), 165),\n",
       " (('wikipedia', 'free', 'encyclopedia'), 162),\n",
       " (('way', 'answer', 'questions'), 158),\n",
       " (('answer', 'questions', 'example'), 150),\n",
       " (('questions', 'example', 'stressful'), 145),\n",
       " (('example', 'stressful', 'time'), 144),\n",
       " (('stressful', 'time', 'mental'), 140)]"
      ]
     },
     "execution_count": 34,
     "metadata": {},
     "output_type": "execute_result"
    }
   ],
   "source": [
    "trigrams_most_common = most_common_ngram(data, \"trigrams\")\n",
    "trigrams_most_common"
   ]
  },
  {
   "cell_type": "code",
   "execution_count": 35,
   "metadata": {},
   "outputs": [
    {
     "data": {
      "image/png": "[encoded data removed]",
      "text/plain": [
       "<Figure size 504x504 with 1 Axes>"
      ]
     },
     "metadata": {
      "needs_background": "light"
     },
     "output_type": "display_data"
    }
   ],
   "source": [
    "plot_n_grams(trigrams_most_common, title=\"Most Frequent Trigrams\")"
   ]
  },
  {
   "cell_type": "markdown",
   "metadata": {},
   "source": [
    "### preprocessing"
   ]
  },
  {
   "cell_type": "code",
   "execution_count": 36,
   "metadata": {},
   "outputs": [],
   "source": [
    "def remove_stopwords(data, stopword_list, column=\"cleaned_post\"):\n",
    "    data[column] = data[column].apply(word_tokenize)\n",
    "    data[column] = data[column].apply(lambda x: [word for word in x if not word in stopword_list])\n",
    "    return data"
   ]
  },
  {
   "cell_type": "code",
   "execution_count": 37,
   "metadata": {},
   "outputs": [],
   "source": [
    "def apply_lemmatization(text):\n",
    "    lemmatizer = WordNetLemmatizer()\n",
    "    return [lemmatizer.lemmatize(w) for w in text]"
   ]
  },
  {
   "cell_type": "code",
   "execution_count": 38,
   "metadata": {},
   "outputs": [],
   "source": [
    "def lemmatize(data, stopword_list, column=\"cleaned_post\"):\n",
    "    data[column] = data[column].apply(apply_lemmatization)\n",
    "    data[column] = data[column].apply(\" \".join)\n",
    "    return data"
   ]
  },
  {
   "cell_type": "code",
   "execution_count": 39,
   "metadata": {},
   "outputs": [],
   "source": [
    "data = remove_stopwords(data, stopword_list)"
   ]
  },
  {
   "cell_type": "code",
   "execution_count": 40,
   "metadata": {},
   "outputs": [],
   "source": [
    "data = lemmatize(data, stopword_list)"
   ]
  },
  {
   "cell_type": "code",
   "execution_count": 41,
   "metadata": {},
   "outputs": [
    {
     "data": {
      "text/html": [
       "<div>\n",
       "<style scoped>\n",
       "    .dataframe tbody tr th:only-of-type {\n",
       "        vertical-align: middle;\n",
       "    }\n",
       "\n",
       "    .dataframe tbody tr th {\n",
       "        vertical-align: top;\n",
       "    }\n",
       "\n",
       "    .dataframe thead th {\n",
       "        text-align: right;\n",
       "    }\n",
       "</style>\n",
       "<table border=\"1\" class=\"dataframe\">\n",
       "  <thead>\n",
       "    <tr style=\"text-align: right;\">\n",
       "      <th></th>\n",
       "      <th>type</th>\n",
       "      <th>posts</th>\n",
       "      <th>E-I</th>\n",
       "      <th>N-S</th>\n",
       "      <th>F-T</th>\n",
       "      <th>J-P</th>\n",
       "      <th>cleaned_post</th>\n",
       "      <th>words_count</th>\n",
       "      <th>char_count</th>\n",
       "      <th>bigrams</th>\n",
       "      <th>trigrams</th>\n",
       "    </tr>\n",
       "  </thead>\n",
       "  <tbody>\n",
       "    <tr>\n",
       "      <th>0</th>\n",
       "      <td>INFJ</td>\n",
       "      <td>'http://www.youtube.com/watch?v=qsXHcwe3krw|||...</td>\n",
       "      <td>I</td>\n",
       "      <td>N</td>\n",
       "      <td>F</td>\n",
       "      <td>J</td>\n",
       "      <td>intj moment sportscenter top ten play prank li...</td>\n",
       "      <td>454</td>\n",
       "      <td>2764</td>\n",
       "      <td>[(intj, moments), (moments, sportscenter), (sp...</td>\n",
       "      <td>[(intj, moments, sportscenter), (moments, spor...</td>\n",
       "    </tr>\n",
       "    <tr>\n",
       "      <th>1</th>\n",
       "      <td>ENTP</td>\n",
       "      <td>'I'm finding the lack of me in these posts ver...</td>\n",
       "      <td>E</td>\n",
       "      <td>N</td>\n",
       "      <td>T</td>\n",
       "      <td>P</td>\n",
       "      <td>finding lack post alarming sex boring position...</td>\n",
       "      <td>874</td>\n",
       "      <td>5104</td>\n",
       "      <td>[(finding, lack), (lack, posts), (posts, alarm...</td>\n",
       "      <td>[(finding, lack, posts), (lack, posts, alarmin...</td>\n",
       "    </tr>\n",
       "    <tr>\n",
       "      <th>2</th>\n",
       "      <td>INTP</td>\n",
       "      <td>'Good one  _____   https://www.youtube.com/wat...</td>\n",
       "      <td>I</td>\n",
       "      <td>N</td>\n",
       "      <td>T</td>\n",
       "      <td>P</td>\n",
       "      <td>good one course say know blessing curse absolu...</td>\n",
       "      <td>653</td>\n",
       "      <td>4000</td>\n",
       "      <td>[(good, one), (one, course), (course, say), (s...</td>\n",
       "      <td>[(good, one, course), (one, course, say), (cou...</td>\n",
       "    </tr>\n",
       "    <tr>\n",
       "      <th>3</th>\n",
       "      <td>INTJ</td>\n",
       "      <td>'Dear INTP,   I enjoyed our conversation the o...</td>\n",
       "      <td>I</td>\n",
       "      <td>N</td>\n",
       "      <td>T</td>\n",
       "      <td>J</td>\n",
       "      <td>dear intp enjoyed conversation day esoteric ga...</td>\n",
       "      <td>820</td>\n",
       "      <td>4938</td>\n",
       "      <td>[(dear, intp), (intp, enjoyed), (enjoyed, conv...</td>\n",
       "      <td>[(dear, intp, enjoyed), (intp, enjoyed, conver...</td>\n",
       "    </tr>\n",
       "    <tr>\n",
       "      <th>4</th>\n",
       "      <td>ENTJ</td>\n",
       "      <td>'You're fired.|||That's another silly misconce...</td>\n",
       "      <td>E</td>\n",
       "      <td>N</td>\n",
       "      <td>T</td>\n",
       "      <td>J</td>\n",
       "      <td>fired another silly misconception approaching ...</td>\n",
       "      <td>782</td>\n",
       "      <td>4692</td>\n",
       "      <td>[(fired, another), (another, silly), (silly, m...</td>\n",
       "      <td>[(fired, another, silly), (another, silly, mis...</td>\n",
       "    </tr>\n",
       "  </tbody>\n",
       "</table>\n",
       "</div>"
      ],
      "text/plain": [
       "   type                                              posts E-I N-S F-T J-P  \\\n",
       "0  INFJ  'http://www.youtube.com/watch?v=qsXHcwe3krw|||...   I   N   F   J   \n",
       "1  ENTP  'I'm finding the lack of me in these posts ver...   E   N   T   P   \n",
       "2  INTP  'Good one  _____   https://www.youtube.com/wat...   I   N   T   P   \n",
       "3  INTJ  'Dear INTP,   I enjoyed our conversation the o...   I   N   T   J   \n",
       "4  ENTJ  'You're fired.|||That's another silly misconce...   E   N   T   J   \n",
       "\n",
       "                                        cleaned_post  words_count  char_count  \\\n",
       "0  intj moment sportscenter top ten play prank li...          454        2764   \n",
       "1  finding lack post alarming sex boring position...          874        5104   \n",
       "2  good one course say know blessing curse absolu...          653        4000   \n",
       "3  dear intp enjoyed conversation day esoteric ga...          820        4938   \n",
       "4  fired another silly misconception approaching ...          782        4692   \n",
       "\n",
       "                                             bigrams  \\\n",
       "0  [(intj, moments), (moments, sportscenter), (sp...   \n",
       "1  [(finding, lack), (lack, posts), (posts, alarm...   \n",
       "2  [(good, one), (one, course), (course, say), (s...   \n",
       "3  [(dear, intp), (intp, enjoyed), (enjoyed, conv...   \n",
       "4  [(fired, another), (another, silly), (silly, m...   \n",
       "\n",
       "                                            trigrams  \n",
       "0  [(intj, moments, sportscenter), (moments, spor...  \n",
       "1  [(finding, lack, posts), (lack, posts, alarmin...  \n",
       "2  [(good, one, course), (one, course, say), (cou...  \n",
       "3  [(dear, intp, enjoyed), (intp, enjoyed, conver...  \n",
       "4  [(fired, another, silly), (another, silly, mis...  "
      ]
     },
     "execution_count": 41,
     "metadata": {},
     "output_type": "execute_result"
    }
   ],
   "source": [
    "data.head()"
   ]
  },
  {
   "cell_type": "code",
   "execution_count": 42,
   "metadata": {},
   "outputs": [
    {
     "data": {
      "text/html": [
       "<div>\n",
       "<style scoped>\n",
       "    .dataframe tbody tr th:only-of-type {\n",
       "        vertical-align: middle;\n",
       "    }\n",
       "\n",
       "    .dataframe tbody tr th {\n",
       "        vertical-align: top;\n",
       "    }\n",
       "\n",
       "    .dataframe thead th {\n",
       "        text-align: right;\n",
       "    }\n",
       "</style>\n",
       "<table border=\"1\" class=\"dataframe\">\n",
       "  <thead>\n",
       "    <tr style=\"text-align: right;\">\n",
       "      <th></th>\n",
       "      <th>cleaned_post</th>\n",
       "      <th>E-I</th>\n",
       "      <th>N-S</th>\n",
       "      <th>F-T</th>\n",
       "      <th>J-P</th>\n",
       "    </tr>\n",
       "  </thead>\n",
       "  <tbody>\n",
       "    <tr>\n",
       "      <th>0</th>\n",
       "      <td>intj moment sportscenter top ten play prank li...</td>\n",
       "      <td>I</td>\n",
       "      <td>N</td>\n",
       "      <td>F</td>\n",
       "      <td>J</td>\n",
       "    </tr>\n",
       "    <tr>\n",
       "      <th>1</th>\n",
       "      <td>finding lack post alarming sex boring position...</td>\n",
       "      <td>E</td>\n",
       "      <td>N</td>\n",
       "      <td>T</td>\n",
       "      <td>P</td>\n",
       "    </tr>\n",
       "    <tr>\n",
       "      <th>2</th>\n",
       "      <td>good one course say know blessing curse absolu...</td>\n",
       "      <td>I</td>\n",
       "      <td>N</td>\n",
       "      <td>T</td>\n",
       "      <td>P</td>\n",
       "    </tr>\n",
       "    <tr>\n",
       "      <th>3</th>\n",
       "      <td>dear intp enjoyed conversation day esoteric ga...</td>\n",
       "      <td>I</td>\n",
       "      <td>N</td>\n",
       "      <td>T</td>\n",
       "      <td>J</td>\n",
       "    </tr>\n",
       "    <tr>\n",
       "      <th>4</th>\n",
       "      <td>fired another silly misconception approaching ...</td>\n",
       "      <td>E</td>\n",
       "      <td>N</td>\n",
       "      <td>T</td>\n",
       "      <td>J</td>\n",
       "    </tr>\n",
       "  </tbody>\n",
       "</table>\n",
       "</div>"
      ],
      "text/plain": [
       "                                        cleaned_post E-I N-S F-T J-P\n",
       "0  intj moment sportscenter top ten play prank li...   I   N   F   J\n",
       "1  finding lack post alarming sex boring position...   E   N   T   P\n",
       "2  good one course say know blessing curse absolu...   I   N   T   P\n",
       "3  dear intp enjoyed conversation day esoteric ga...   I   N   T   J\n",
       "4  fired another silly misconception approaching ...   E   N   T   J"
      ]
     },
     "execution_count": 42,
     "metadata": {},
     "output_type": "execute_result"
    }
   ],
   "source": [
    "training_data = data[[\"cleaned_post\", \"E-I\", \"N-S\", \"F-T\", \"J-P\"]].copy()\n",
    "training_data.head(5)"
   ]
  },
  {
   "cell_type": "code",
   "execution_count": 43,
   "metadata": {},
   "outputs": [],
   "source": [
    "def make_dummies(data, columns=[\"E-I\", \"N-S\", \"F-T\", \"J-P\"]):\n",
    "    for column in columns:\n",
    "        temp_dummy = pd.get_dummies(data[column], prefix=\"type\")\n",
    "        data = data.join(temp_dummy)\n",
    "    return data"
   ]
  },
  {
   "cell_type": "code",
   "execution_count": 44,
   "metadata": {},
   "outputs": [
    {
     "data": {
      "text/html": [
       "<div>\n",
       "<style scoped>\n",
       "    .dataframe tbody tr th:only-of-type {\n",
       "        vertical-align: middle;\n",
       "    }\n",
       "\n",
       "    .dataframe tbody tr th {\n",
       "        vertical-align: top;\n",
       "    }\n",
       "\n",
       "    .dataframe thead th {\n",
       "        text-align: right;\n",
       "    }\n",
       "</style>\n",
       "<table border=\"1\" class=\"dataframe\">\n",
       "  <thead>\n",
       "    <tr style=\"text-align: right;\">\n",
       "      <th></th>\n",
       "      <th>cleaned_post</th>\n",
       "      <th>E-I</th>\n",
       "      <th>N-S</th>\n",
       "      <th>F-T</th>\n",
       "      <th>J-P</th>\n",
       "      <th>type_E</th>\n",
       "      <th>type_I</th>\n",
       "      <th>type_N</th>\n",
       "      <th>type_S</th>\n",
       "      <th>type_F</th>\n",
       "      <th>type_T</th>\n",
       "      <th>type_J</th>\n",
       "      <th>type_P</th>\n",
       "    </tr>\n",
       "  </thead>\n",
       "  <tbody>\n",
       "    <tr>\n",
       "      <th>0</th>\n",
       "      <td>intj moment sportscenter top ten play prank li...</td>\n",
       "      <td>I</td>\n",
       "      <td>N</td>\n",
       "      <td>F</td>\n",
       "      <td>J</td>\n",
       "      <td>0</td>\n",
       "      <td>1</td>\n",
       "      <td>1</td>\n",
       "      <td>0</td>\n",
       "      <td>1</td>\n",
       "      <td>0</td>\n",
       "      <td>1</td>\n",
       "      <td>0</td>\n",
       "    </tr>\n",
       "    <tr>\n",
       "      <th>1</th>\n",
       "      <td>finding lack post alarming sex boring position...</td>\n",
       "      <td>E</td>\n",
       "      <td>N</td>\n",
       "      <td>T</td>\n",
       "      <td>P</td>\n",
       "      <td>1</td>\n",
       "      <td>0</td>\n",
       "      <td>1</td>\n",
       "      <td>0</td>\n",
       "      <td>0</td>\n",
       "      <td>1</td>\n",
       "      <td>0</td>\n",
       "      <td>1</td>\n",
       "    </tr>\n",
       "    <tr>\n",
       "      <th>2</th>\n",
       "      <td>good one course say know blessing curse absolu...</td>\n",
       "      <td>I</td>\n",
       "      <td>N</td>\n",
       "      <td>T</td>\n",
       "      <td>P</td>\n",
       "      <td>0</td>\n",
       "      <td>1</td>\n",
       "      <td>1</td>\n",
       "      <td>0</td>\n",
       "      <td>0</td>\n",
       "      <td>1</td>\n",
       "      <td>0</td>\n",
       "      <td>1</td>\n",
       "    </tr>\n",
       "    <tr>\n",
       "      <th>3</th>\n",
       "      <td>dear intp enjoyed conversation day esoteric ga...</td>\n",
       "      <td>I</td>\n",
       "      <td>N</td>\n",
       "      <td>T</td>\n",
       "      <td>J</td>\n",
       "      <td>0</td>\n",
       "      <td>1</td>\n",
       "      <td>1</td>\n",
       "      <td>0</td>\n",
       "      <td>0</td>\n",
       "      <td>1</td>\n",
       "      <td>1</td>\n",
       "      <td>0</td>\n",
       "    </tr>\n",
       "    <tr>\n",
       "      <th>4</th>\n",
       "      <td>fired another silly misconception approaching ...</td>\n",
       "      <td>E</td>\n",
       "      <td>N</td>\n",
       "      <td>T</td>\n",
       "      <td>J</td>\n",
       "      <td>1</td>\n",
       "      <td>0</td>\n",
       "      <td>1</td>\n",
       "      <td>0</td>\n",
       "      <td>0</td>\n",
       "      <td>1</td>\n",
       "      <td>1</td>\n",
       "      <td>0</td>\n",
       "    </tr>\n",
       "  </tbody>\n",
       "</table>\n",
       "</div>"
      ],
      "text/plain": [
       "                                        cleaned_post E-I N-S F-T J-P  type_E  \\\n",
       "0  intj moment sportscenter top ten play prank li...   I   N   F   J       0   \n",
       "1  finding lack post alarming sex boring position...   E   N   T   P       1   \n",
       "2  good one course say know blessing curse absolu...   I   N   T   P       0   \n",
       "3  dear intp enjoyed conversation day esoteric ga...   I   N   T   J       0   \n",
       "4  fired another silly misconception approaching ...   E   N   T   J       1   \n",
       "\n",
       "   type_I  type_N  type_S  type_F  type_T  type_J  type_P  \n",
       "0       1       1       0       1       0       1       0  \n",
       "1       0       1       0       0       1       0       1  \n",
       "2       1       1       0       0       1       0       1  \n",
       "3       1       1       0       0       1       1       0  \n",
       "4       0       1       0       0       1       1       0  "
      ]
     },
     "execution_count": 44,
     "metadata": {},
     "output_type": "execute_result"
    }
   ],
   "source": [
    "training_data = make_dummies(training_data)\n",
    "training_data.head()"
   ]
  },
  {
   "cell_type": "markdown",
   "metadata": {},
   "source": [
    "#### Handling Imbalanced Data"
   ]
  },
  {
   "cell_type": "code",
   "execution_count": 45,
   "metadata": {},
   "outputs": [],
   "source": [
    "X = training_data[[\"cleaned_post\"]]\n",
    "y = training_data.drop(columns=[\"cleaned_post\"])"
   ]
  },
  {
   "cell_type": "code",
   "execution_count": 46,
   "metadata": {
    "scrolled": true
   },
   "outputs": [
    {
     "name": "stderr",
     "output_type": "stream",
     "text": [
      "C:\\Users\\Mithul\\AppData\\Local\\Temp\\ipykernel_14732\\1038188885.py:6: FutureWarning: \n",
      "\n",
      "Passing `palette` without assigning `hue` is deprecated and will be removed in v0.14.0. Assign the `x` variable to `hue` and set `legend=False` for the same effect.\n",
      "\n",
      "  sns.countplot(x=_x, data=data, palette=palette)\n",
      "C:\\Users\\Mithul\\AppData\\Local\\Temp\\ipykernel_14732\\1038188885.py:6: FutureWarning: \n",
      "\n",
      "Passing `palette` without assigning `hue` is deprecated and will be removed in v0.14.0. Assign the `x` variable to `hue` and set `legend=False` for the same effect.\n",
      "\n",
      "  sns.countplot(x=_x, data=data, palette=palette)\n",
      "C:\\Users\\Mithul\\AppData\\Local\\Temp\\ipykernel_14732\\1038188885.py:6: FutureWarning: \n",
      "\n",
      "Passing `palette` without assigning `hue` is deprecated and will be removed in v0.14.0. Assign the `x` variable to `hue` and set `legend=False` for the same effect.\n",
      "\n",
      "  sns.countplot(x=_x, data=data, palette=palette)\n",
      "C:\\Users\\Mithul\\AppData\\Local\\Temp\\ipykernel_14732\\1038188885.py:6: FutureWarning: \n",
      "\n",
      "Passing `palette` without assigning `hue` is deprecated and will be removed in v0.14.0. Assign the `x` variable to `hue` and set `legend=False` for the same effect.\n",
      "\n",
      "  sns.countplot(x=_x, data=data, palette=palette)\n"
     ]
    },
    {
     "data": {
      "image/png": "[encoded data removed]",
      "text/plain": [
       "<Figure size 1152x288 with 4 Axes>"
      ]
     },
     "metadata": {
      "needs_background": "light"
     },
     "output_type": "display_data"
    }
   ],
   "source": [
    "def show_distribution(data, x=[\"E-I\", \"N-S\", \"F-T\",\"J-P\"], fig_size=(16,4), xticks_size=10, palette=\"husl\"):\n",
    "    fig, ax = plt.subplots(len(x), figsize=fig_size)\n",
    "    j = 0\n",
    "    for _x in x:\n",
    "        plt.subplot(1,4, j+1)\n",
    "        sns.countplot(x=_x, data=data, palette=palette)\n",
    "        plt.xticks(size=xticks_size)\n",
    "        j+=1    \n",
    "        \n",
    "show_distribution(data)"
   ]
  },
  {
   "cell_type": "code",
   "execution_count": 47,
   "metadata": {},
   "outputs": [],
   "source": [
    "from imblearn.over_sampling import RandomOverSampler"
   ]
  },
  {
   "cell_type": "code",
   "execution_count": 48,
   "metadata": {},
   "outputs": [],
   "source": [
    "oversample = RandomOverSampler()"
   ]
  },
  {
   "cell_type": "code",
   "execution_count": 49,
   "metadata": {},
   "outputs": [],
   "source": [
    "y_ei = y[\"type_E\"]\n",
    "y_ns = y[\"type_N\"]\n",
    "y_ft = y[\"type_F\"]\n",
    "y_jp = y[\"type_J\"]"
   ]
  },
  {
   "cell_type": "code",
   "execution_count": 50,
   "metadata": {},
   "outputs": [],
   "source": [
    "X_over_ei, y_over_ei = oversample.fit_resample(X, y_ei)\n",
    "X_over_ns, y_over_ns = oversample.fit_resample(X, y_ns)\n",
    "X_over_ft, y_over_ft = oversample.fit_resample(X, y_ft)\n",
    "X_over_jp, y_over_jp = oversample.fit_resample(X, y_jp)"
   ]
  },
  {
   "cell_type": "code",
   "execution_count": 51,
   "metadata": {},
   "outputs": [
    {
     "name": "stderr",
     "output_type": "stream",
     "text": [
      "C:\\Users\\Mithul\\AppData\\Local\\Temp\\ipykernel_14732\\4249258103.py:3: FutureWarning: \n",
      "\n",
      "Passing `palette` without assigning `hue` is deprecated and will be removed in v0.14.0. Assign the `x` variable to `hue` and set `legend=False` for the same effect.\n",
      "\n",
      "  sns.countplot(x=x, data=data, palette=palette)\n"
     ]
    },
    {
     "data": {
      "image/png": "[encoded data removed]",
      "text/plain": [
       "<Figure size 504x216 with 1 Axes>"
      ]
     },
     "metadata": {
      "needs_background": "light"
     },
     "output_type": "display_data"
    }
   ],
   "source": [
    "show_class_distribution(data=X_over_ei, x=y_over_ei, figsize=(7,3), title=\"E-I\")"
   ]
  },
  {
   "cell_type": "code",
   "execution_count": 52,
   "metadata": {},
   "outputs": [
    {
     "name": "stderr",
     "output_type": "stream",
     "text": [
      "C:\\Users\\Mithul\\AppData\\Local\\Temp\\ipykernel_14732\\4249258103.py:3: FutureWarning: \n",
      "\n",
      "Passing `palette` without assigning `hue` is deprecated and will be removed in v0.14.0. Assign the `x` variable to `hue` and set `legend=False` for the same effect.\n",
      "\n",
      "  sns.countplot(x=x, data=data, palette=palette)\n"
     ]
    },
    {
     "data": {
      "image/png": "[encoded data removed]",
      "text/plain": [
       "<Figure size 504x216 with 1 Axes>"
      ]
     },
     "metadata": {
      "needs_background": "light"
     },
     "output_type": "display_data"
    }
   ],
   "source": [
    "show_class_distribution(data=X_over_ns, x=y_over_ns, figsize=(7,3), title=\"N-S\")"
   ]
  },
  {
   "cell_type": "code",
   "execution_count": 53,
   "metadata": {},
   "outputs": [
    {
     "name": "stderr",
     "output_type": "stream",
     "text": [
      "C:\\Users\\Mithul\\AppData\\Local\\Temp\\ipykernel_14732\\4249258103.py:3: FutureWarning: \n",
      "\n",
      "Passing `palette` without assigning `hue` is deprecated and will be removed in v0.14.0. Assign the `x` variable to `hue` and set `legend=False` for the same effect.\n",
      "\n",
      "  sns.countplot(x=x, data=data, palette=palette)\n"
     ]
    },
    {
     "data": {
      "image/png": "[encoded data removed]",
      "text/plain": [
       "<Figure size 504x216 with 1 Axes>"
      ]
     },
     "metadata": {
      "needs_background": "light"
     },
     "output_type": "display_data"
    }
   ],
   "source": [
    "show_class_distribution(data=X_over_ft, x=y_over_ft, figsize=(7,3), title=\"F-T\")"
   ]
  },
  {
   "cell_type": "code",
   "execution_count": 54,
   "metadata": {},
   "outputs": [
    {
     "name": "stderr",
     "output_type": "stream",
     "text": [
      "C:\\Users\\Mithul\\AppData\\Local\\Temp\\ipykernel_14732\\4249258103.py:3: FutureWarning: \n",
      "\n",
      "Passing `palette` without assigning `hue` is deprecated and will be removed in v0.14.0. Assign the `x` variable to `hue` and set `legend=False` for the same effect.\n",
      "\n",
      "  sns.countplot(x=x, data=data, palette=palette)\n"
     ]
    },
    {
     "data": {
      "image/png": "[encoded data removed]",
      "text/plain": [
       "<Figure size 504x216 with 1 Axes>"
      ]
     },
     "metadata": {
      "needs_background": "light"
     },
     "output_type": "display_data"
    }
   ],
   "source": [
    "show_class_distribution(data=X_over_jp, x=y_over_jp, figsize=(7,3), title=\"J-P\")"
   ]
  },
  {
   "cell_type": "markdown",
   "metadata": {},
   "source": [
    "#### Train-test split for each classes"
   ]
  },
  {
   "cell_type": "code",
   "execution_count": 55,
   "metadata": {},
   "outputs": [],
   "source": [
    "from sklearn.model_selection import train_test_split"
   ]
  },
  {
   "cell_type": "code",
   "execution_count": 56,
   "metadata": {},
   "outputs": [],
   "source": [
    "X_train_ei, X_test_ei, y_train_ei, y_test_ei = train_test_split(X_over_ei, y_over_ei, test_size=0.3, random_state=42)\n",
    "X_train_ns, X_test_ns, y_train_ns, y_test_ns = train_test_split(X_over_ns, y_over_ns, test_size=0.3, random_state=42)\n",
    "X_train_ft, X_test_ft, y_train_ft, y_test_ft = train_test_split(X_over_ft, y_over_ft, test_size=0.3, random_state=42)\n",
    "X_train_jp, X_test_jp, y_train_jp, y_test_jp = train_test_split(X_over_jp, y_over_jp, test_size=0.3, random_state=42)"
   ]
  },
  {
   "cell_type": "code",
   "execution_count": 57,
   "metadata": {},
   "outputs": [],
   "source": [
    "X_train_ei = X_train_ei['cleaned_post']\n",
    "X_train_ns = X_train_ns['cleaned_post']\n",
    "X_train_ft = X_train_ft['cleaned_post']\n",
    "X_train_jp = X_train_jp['cleaned_post']"
   ]
  },
  {
   "cell_type": "code",
   "execution_count": 58,
   "metadata": {},
   "outputs": [],
   "source": [
    "X_test_ei = X_test_ei['cleaned_post']\n",
    "X_test_ns = X_test_ns['cleaned_post']\n",
    "X_test_ft = X_test_ft['cleaned_post']\n",
    "X_test_jp = X_test_jp['cleaned_post']"
   ]
  },
  {
   "cell_type": "code",
   "execution_count": 59,
   "metadata": {},
   "outputs": [],
   "source": [
    "y_train_ei.name, y_test_ei.name = \"E-I\", \"E-I\"\n",
    "y_train_ns.name, y_test_ns.name = \"N-S\", \"N-S\"\n",
    "y_train_ft.name, y_test_ft.name = \"F-T\", \"F-T\"\n",
    "y_train_jp.name, y_test_jp.name = \"J-P\", \"J-P\""
   ]
  },
  {
   "cell_type": "code",
   "execution_count": 60,
   "metadata": {},
   "outputs": [],
   "source": [
    "y_all_train = [y_train_ei, y_train_ns, y_train_ft,  y_train_jp]\n",
    "y_all_test  = [y_test_ei, y_test_ns, y_test_ft, y_test_jp] "
   ]
  },
  {
   "cell_type": "markdown",
   "metadata": {},
   "source": [
    "### TF-IDF Vectorizer"
   ]
  },
  {
   "cell_type": "code",
   "execution_count": 61,
   "metadata": {},
   "outputs": [],
   "source": [
    "from sklearn.feature_extraction.text import TfidfVectorizer"
   ]
  },
  {
   "cell_type": "code",
   "execution_count": 62,
   "metadata": {},
   "outputs": [],
   "source": [
    "vectorizer = TfidfVectorizer(max_features=10000)"
   ]
  },
  {
   "cell_type": "code",
   "execution_count": 63,
   "metadata": {},
   "outputs": [
    {
     "data": {
      "text/html": [
       "<style>#sk-container-id-1 {color: black;background-color: white;}#sk-container-id-1 pre{padding: 0;}#sk-container-id-1 div.sk-toggleable {background-color: white;}#sk-container-id-1 label.sk-toggleable__label {cursor: pointer;display: block;width: 100%;margin-bottom: 0;padding: 0.3em;box-sizing: border-box;text-align: center;}#sk-container-id-1 label.sk-toggleable__label-arrow:before {content: \"▸\";float: left;margin-right: 0.25em;color: #696969;}#sk-container-id-1 label.sk-toggleable__label-arrow:hover:before {color: black;}#sk-container-id-1 div.sk-estimator:hover label.sk-toggleable__label-arrow:before {color: black;}#sk-container-id-1 div.sk-toggleable__content {max-height: 0;max-width: 0;overflow: hidden;text-align: left;background-color: #f0f8ff;}#sk-container-id-1 div.sk-toggleable__content pre {margin: 0.2em;color: black;border-radius: 0.25em;background-color: #f0f8ff;}#sk-container-id-1 input.sk-toggleable__control:checked~div.sk-toggleable__content {max-height: 200px;max-width: 100%;overflow: auto;}#sk-container-id-1 input.sk-toggleable__control:checked~label.sk-toggleable__label-arrow:before {content: \"▾\";}#sk-container-id-1 div.sk-estimator input.sk-toggleable__control:checked~label.sk-toggleable__label {background-color: #d4ebff;}#sk-container-id-1 div.sk-label input.sk-toggleable__control:checked~label.sk-toggleable__label {background-color: #d4ebff;}#sk-container-id-1 input.sk-hidden--visually {border: 0;clip: rect(1px 1px 1px 1px);clip: rect(1px, 1px, 1px, 1px);height: 1px;margin: -1px;overflow: hidden;padding: 0;position: absolute;width: 1px;}#sk-container-id-1 div.sk-estimator {font-family: monospace;background-color: #f0f8ff;border: 1px dotted black;border-radius: 0.25em;box-sizing: border-box;margin-bottom: 0.5em;}#sk-container-id-1 div.sk-estimator:hover {background-color: #d4ebff;}#sk-container-id-1 div.sk-parallel-item::after {content: \"\";width: 100%;border-bottom: 1px solid gray;flex-grow: 1;}#sk-container-id-1 div.sk-label:hover label.sk-toggleable__label {background-color: #d4ebff;}#sk-container-id-1 div.sk-serial::before {content: \"\";position: absolute;border-left: 1px solid gray;box-sizing: border-box;top: 0;bottom: 0;left: 50%;z-index: 0;}#sk-container-id-1 div.sk-serial {display: flex;flex-direction: column;align-items: center;background-color: white;padding-right: 0.2em;padding-left: 0.2em;position: relative;}#sk-container-id-1 div.sk-item {position: relative;z-index: 1;}#sk-container-id-1 div.sk-parallel {display: flex;align-items: stretch;justify-content: center;background-color: white;position: relative;}#sk-container-id-1 div.sk-item::before, #sk-container-id-1 div.sk-parallel-item::before {content: \"\";position: absolute;border-left: 1px solid gray;box-sizing: border-box;top: 0;bottom: 0;left: 50%;z-index: -1;}#sk-container-id-1 div.sk-parallel-item {display: flex;flex-direction: column;z-index: 1;position: relative;background-color: white;}#sk-container-id-1 div.sk-parallel-item:first-child::after {align-self: flex-end;width: 50%;}#sk-container-id-1 div.sk-parallel-item:last-child::after {align-self: flex-start;width: 50%;}#sk-container-id-1 div.sk-parallel-item:only-child::after {width: 0;}#sk-container-id-1 div.sk-dashed-wrapped {border: 1px dashed gray;margin: 0 0.4em 0.5em 0.4em;box-sizing: border-box;padding-bottom: 0.4em;background-color: white;}#sk-container-id-1 div.sk-label label {font-family: monospace;font-weight: bold;display: inline-block;line-height: 1.2em;}#sk-container-id-1 div.sk-label-container {text-align: center;}#sk-container-id-1 div.sk-container {/* jupyter's `normalize.less` sets `[hidden] { display: none; }` but bootstrap.min.css set `[hidden] { display: none !important; }` so we also need the `!important` here to be able to override the default hidden behavior on the sphinx rendered scikit-learn.org. See: https://github.com/scikit-learn/scikit-learn/issues/21755 */display: inline-block !important;position: relative;}#sk-container-id-1 div.sk-text-repr-fallback {display: none;}</style><div id=\"sk-container-id-1\" class=\"sk-top-container\"><div class=\"sk-text-repr-fallback\"><pre>TfidfVectorizer(max_features=10000)</pre><b>In a Jupyter environment, please rerun this cell to show the HTML representation or trust the notebook. <br />On GitHub, the HTML representation is unable to render, please try loading this page with nbviewer.org.</b></div><div class=\"sk-container\" hidden><div class=\"sk-item\"><div class=\"sk-estimator sk-toggleable\"><input class=\"sk-toggleable__control sk-hidden--visually\" id=\"sk-estimator-id-1\" type=\"checkbox\" checked><label for=\"sk-estimator-id-1\" class=\"sk-toggleable__label sk-toggleable__label-arrow\">TfidfVectorizer</label><div class=\"sk-toggleable__content\"><pre>TfidfVectorizer(max_features=10000)</pre></div></div></div></div></div>"
      ],
      "text/plain": [
       "TfidfVectorizer(max_features=10000)"
      ]
     },
     "execution_count": 63,
     "metadata": {},
     "output_type": "execute_result"
    }
   ],
   "source": [
    "vectorizer.fit(X_train_ei)"
   ]
  },
  {
   "cell_type": "code",
   "execution_count": 64,
   "metadata": {},
   "outputs": [],
   "source": [
    "X_train_ei = vectorizer.transform(X_train_ei)\n",
    "X_test_ei  = vectorizer.transform(X_test_ei)\n",
    "\n",
    "X_train_ns = vectorizer.transform(X_train_ns)\n",
    "X_test_ns  = vectorizer.transform(X_test_ns)\n",
    "\n",
    "X_train_ft = vectorizer.transform(X_train_ft)\n",
    "X_test_ft  = vectorizer.transform(X_test_ft)\n",
    "\n",
    "X_train_jp = vectorizer.transform(X_train_jp)\n",
    "X_test_jp  = vectorizer.transform(X_test_jp)"
   ]
  },
  {
   "cell_type": "code",
   "execution_count": 65,
   "metadata": {},
   "outputs": [],
   "source": [
    "x_all_train = [X_train_ei, X_train_ns, X_train_ft, X_train_jp]\n",
    "x_all_test  = [X_test_ei, X_test_ns, X_test_ft, X_test_jp]"
   ]
  },
  {
   "cell_type": "code",
   "execution_count": 66,
   "metadata": {},
   "outputs": [
    {
     "data": {
      "text/html": [
       "<div>\n",
       "<style scoped>\n",
       "    .dataframe tbody tr th:only-of-type {\n",
       "        vertical-align: middle;\n",
       "    }\n",
       "\n",
       "    .dataframe tbody tr th {\n",
       "        vertical-align: top;\n",
       "    }\n",
       "\n",
       "    .dataframe thead th {\n",
       "        text-align: right;\n",
       "    }\n",
       "</style>\n",
       "<table border=\"1\" class=\"dataframe\">\n",
       "  <thead>\n",
       "    <tr style=\"text-align: right;\">\n",
       "      <th></th>\n",
       "      <th>aaaand</th>\n",
       "      <th>aang</th>\n",
       "      <th>ab</th>\n",
       "      <th>aback</th>\n",
       "      <th>abandon</th>\n",
       "      <th>abandoned</th>\n",
       "      <th>abandonment</th>\n",
       "      <th>abbreviation</th>\n",
       "      <th>abhor</th>\n",
       "      <th>ability</th>\n",
       "      <th>...</th>\n",
       "      <th>zero</th>\n",
       "      <th>zip</th>\n",
       "      <th>zodiac</th>\n",
       "      <th>zoe</th>\n",
       "      <th>zombie</th>\n",
       "      <th>zone</th>\n",
       "      <th>zoned</th>\n",
       "      <th>zoning</th>\n",
       "      <th>zoo</th>\n",
       "      <th>zooey</th>\n",
       "    </tr>\n",
       "  </thead>\n",
       "  <tbody>\n",
       "    <tr>\n",
       "      <th>0</th>\n",
       "      <td>0.0</td>\n",
       "      <td>0.0</td>\n",
       "      <td>0.0</td>\n",
       "      <td>0.0</td>\n",
       "      <td>0.0</td>\n",
       "      <td>0.0</td>\n",
       "      <td>0.0</td>\n",
       "      <td>0.0</td>\n",
       "      <td>0.0</td>\n",
       "      <td>0.000000</td>\n",
       "      <td>...</td>\n",
       "      <td>0.0</td>\n",
       "      <td>0.0</td>\n",
       "      <td>0.000000</td>\n",
       "      <td>0.0</td>\n",
       "      <td>0.0</td>\n",
       "      <td>0.000000</td>\n",
       "      <td>0.0</td>\n",
       "      <td>0.0</td>\n",
       "      <td>0.0</td>\n",
       "      <td>0.0</td>\n",
       "    </tr>\n",
       "    <tr>\n",
       "      <th>1</th>\n",
       "      <td>0.0</td>\n",
       "      <td>0.0</td>\n",
       "      <td>0.0</td>\n",
       "      <td>0.0</td>\n",
       "      <td>0.0</td>\n",
       "      <td>0.0</td>\n",
       "      <td>0.0</td>\n",
       "      <td>0.0</td>\n",
       "      <td>0.0</td>\n",
       "      <td>0.000000</td>\n",
       "      <td>...</td>\n",
       "      <td>0.0</td>\n",
       "      <td>0.0</td>\n",
       "      <td>0.000000</td>\n",
       "      <td>0.0</td>\n",
       "      <td>0.0</td>\n",
       "      <td>0.000000</td>\n",
       "      <td>0.0</td>\n",
       "      <td>0.0</td>\n",
       "      <td>0.0</td>\n",
       "      <td>0.0</td>\n",
       "    </tr>\n",
       "    <tr>\n",
       "      <th>2</th>\n",
       "      <td>0.0</td>\n",
       "      <td>0.0</td>\n",
       "      <td>0.0</td>\n",
       "      <td>0.0</td>\n",
       "      <td>0.0</td>\n",
       "      <td>0.0</td>\n",
       "      <td>0.0</td>\n",
       "      <td>0.0</td>\n",
       "      <td>0.0</td>\n",
       "      <td>0.000000</td>\n",
       "      <td>...</td>\n",
       "      <td>0.0</td>\n",
       "      <td>0.0</td>\n",
       "      <td>0.000000</td>\n",
       "      <td>0.0</td>\n",
       "      <td>0.0</td>\n",
       "      <td>0.000000</td>\n",
       "      <td>0.0</td>\n",
       "      <td>0.0</td>\n",
       "      <td>0.0</td>\n",
       "      <td>0.0</td>\n",
       "    </tr>\n",
       "    <tr>\n",
       "      <th>3</th>\n",
       "      <td>0.0</td>\n",
       "      <td>0.0</td>\n",
       "      <td>0.0</td>\n",
       "      <td>0.0</td>\n",
       "      <td>0.0</td>\n",
       "      <td>0.0</td>\n",
       "      <td>0.0</td>\n",
       "      <td>0.0</td>\n",
       "      <td>0.0</td>\n",
       "      <td>0.000000</td>\n",
       "      <td>...</td>\n",
       "      <td>0.0</td>\n",
       "      <td>0.0</td>\n",
       "      <td>0.000000</td>\n",
       "      <td>0.0</td>\n",
       "      <td>0.0</td>\n",
       "      <td>0.000000</td>\n",
       "      <td>0.0</td>\n",
       "      <td>0.0</td>\n",
       "      <td>0.0</td>\n",
       "      <td>0.0</td>\n",
       "    </tr>\n",
       "    <tr>\n",
       "      <th>4</th>\n",
       "      <td>0.0</td>\n",
       "      <td>0.0</td>\n",
       "      <td>0.0</td>\n",
       "      <td>0.0</td>\n",
       "      <td>0.0</td>\n",
       "      <td>0.0</td>\n",
       "      <td>0.0</td>\n",
       "      <td>0.0</td>\n",
       "      <td>0.0</td>\n",
       "      <td>0.000000</td>\n",
       "      <td>...</td>\n",
       "      <td>0.0</td>\n",
       "      <td>0.0</td>\n",
       "      <td>0.122238</td>\n",
       "      <td>0.0</td>\n",
       "      <td>0.0</td>\n",
       "      <td>0.045706</td>\n",
       "      <td>0.0</td>\n",
       "      <td>0.0</td>\n",
       "      <td>0.0</td>\n",
       "      <td>0.0</td>\n",
       "    </tr>\n",
       "    <tr>\n",
       "      <th>5</th>\n",
       "      <td>0.0</td>\n",
       "      <td>0.0</td>\n",
       "      <td>0.0</td>\n",
       "      <td>0.0</td>\n",
       "      <td>0.0</td>\n",
       "      <td>0.0</td>\n",
       "      <td>0.0</td>\n",
       "      <td>0.0</td>\n",
       "      <td>0.0</td>\n",
       "      <td>0.000000</td>\n",
       "      <td>...</td>\n",
       "      <td>0.0</td>\n",
       "      <td>0.0</td>\n",
       "      <td>0.000000</td>\n",
       "      <td>0.0</td>\n",
       "      <td>0.0</td>\n",
       "      <td>0.000000</td>\n",
       "      <td>0.0</td>\n",
       "      <td>0.0</td>\n",
       "      <td>0.0</td>\n",
       "      <td>0.0</td>\n",
       "    </tr>\n",
       "    <tr>\n",
       "      <th>6</th>\n",
       "      <td>0.0</td>\n",
       "      <td>0.0</td>\n",
       "      <td>0.0</td>\n",
       "      <td>0.0</td>\n",
       "      <td>0.0</td>\n",
       "      <td>0.0</td>\n",
       "      <td>0.0</td>\n",
       "      <td>0.0</td>\n",
       "      <td>0.0</td>\n",
       "      <td>0.000000</td>\n",
       "      <td>...</td>\n",
       "      <td>0.0</td>\n",
       "      <td>0.0</td>\n",
       "      <td>0.000000</td>\n",
       "      <td>0.0</td>\n",
       "      <td>0.0</td>\n",
       "      <td>0.000000</td>\n",
       "      <td>0.0</td>\n",
       "      <td>0.0</td>\n",
       "      <td>0.0</td>\n",
       "      <td>0.0</td>\n",
       "    </tr>\n",
       "    <tr>\n",
       "      <th>7</th>\n",
       "      <td>0.0</td>\n",
       "      <td>0.0</td>\n",
       "      <td>0.0</td>\n",
       "      <td>0.0</td>\n",
       "      <td>0.0</td>\n",
       "      <td>0.0</td>\n",
       "      <td>0.0</td>\n",
       "      <td>0.0</td>\n",
       "      <td>0.0</td>\n",
       "      <td>0.000000</td>\n",
       "      <td>...</td>\n",
       "      <td>0.0</td>\n",
       "      <td>0.0</td>\n",
       "      <td>0.000000</td>\n",
       "      <td>0.0</td>\n",
       "      <td>0.0</td>\n",
       "      <td>0.000000</td>\n",
       "      <td>0.0</td>\n",
       "      <td>0.0</td>\n",
       "      <td>0.0</td>\n",
       "      <td>0.0</td>\n",
       "    </tr>\n",
       "    <tr>\n",
       "      <th>8</th>\n",
       "      <td>0.0</td>\n",
       "      <td>0.0</td>\n",
       "      <td>0.0</td>\n",
       "      <td>0.0</td>\n",
       "      <td>0.0</td>\n",
       "      <td>0.0</td>\n",
       "      <td>0.0</td>\n",
       "      <td>0.0</td>\n",
       "      <td>0.0</td>\n",
       "      <td>0.000000</td>\n",
       "      <td>...</td>\n",
       "      <td>0.0</td>\n",
       "      <td>0.0</td>\n",
       "      <td>0.000000</td>\n",
       "      <td>0.0</td>\n",
       "      <td>0.0</td>\n",
       "      <td>0.000000</td>\n",
       "      <td>0.0</td>\n",
       "      <td>0.0</td>\n",
       "      <td>0.0</td>\n",
       "      <td>0.0</td>\n",
       "    </tr>\n",
       "    <tr>\n",
       "      <th>9</th>\n",
       "      <td>0.0</td>\n",
       "      <td>0.0</td>\n",
       "      <td>0.0</td>\n",
       "      <td>0.0</td>\n",
       "      <td>0.0</td>\n",
       "      <td>0.0</td>\n",
       "      <td>0.0</td>\n",
       "      <td>0.0</td>\n",
       "      <td>0.0</td>\n",
       "      <td>0.030691</td>\n",
       "      <td>...</td>\n",
       "      <td>0.0</td>\n",
       "      <td>0.0</td>\n",
       "      <td>0.000000</td>\n",
       "      <td>0.0</td>\n",
       "      <td>0.0</td>\n",
       "      <td>0.000000</td>\n",
       "      <td>0.0</td>\n",
       "      <td>0.0</td>\n",
       "      <td>0.0</td>\n",
       "      <td>0.0</td>\n",
       "    </tr>\n",
       "  </tbody>\n",
       "</table>\n",
       "<p>10 rows × 10000 columns</p>\n",
       "</div>"
      ],
      "text/plain": [
       "   aaaand  aang   ab  aback  abandon  abandoned  abandonment  abbreviation  \\\n",
       "0     0.0   0.0  0.0    0.0      0.0        0.0          0.0           0.0   \n",
       "1     0.0   0.0  0.0    0.0      0.0        0.0          0.0           0.0   \n",
       "2     0.0   0.0  0.0    0.0      0.0        0.0          0.0           0.0   \n",
       "3     0.0   0.0  0.0    0.0      0.0        0.0          0.0           0.0   \n",
       "4     0.0   0.0  0.0    0.0      0.0        0.0          0.0           0.0   \n",
       "5     0.0   0.0  0.0    0.0      0.0        0.0          0.0           0.0   \n",
       "6     0.0   0.0  0.0    0.0      0.0        0.0          0.0           0.0   \n",
       "7     0.0   0.0  0.0    0.0      0.0        0.0          0.0           0.0   \n",
       "8     0.0   0.0  0.0    0.0      0.0        0.0          0.0           0.0   \n",
       "9     0.0   0.0  0.0    0.0      0.0        0.0          0.0           0.0   \n",
       "\n",
       "   abhor   ability  ...  zero  zip    zodiac  zoe  zombie      zone  zoned  \\\n",
       "0    0.0  0.000000  ...   0.0  0.0  0.000000  0.0     0.0  0.000000    0.0   \n",
       "1    0.0  0.000000  ...   0.0  0.0  0.000000  0.0     0.0  0.000000    0.0   \n",
       "2    0.0  0.000000  ...   0.0  0.0  0.000000  0.0     0.0  0.000000    0.0   \n",
       "3    0.0  0.000000  ...   0.0  0.0  0.000000  0.0     0.0  0.000000    0.0   \n",
       "4    0.0  0.000000  ...   0.0  0.0  0.122238  0.0     0.0  0.045706    0.0   \n",
       "5    0.0  0.000000  ...   0.0  0.0  0.000000  0.0     0.0  0.000000    0.0   \n",
       "6    0.0  0.000000  ...   0.0  0.0  0.000000  0.0     0.0  0.000000    0.0   \n",
       "7    0.0  0.000000  ...   0.0  0.0  0.000000  0.0     0.0  0.000000    0.0   \n",
       "8    0.0  0.000000  ...   0.0  0.0  0.000000  0.0     0.0  0.000000    0.0   \n",
       "9    0.0  0.030691  ...   0.0  0.0  0.000000  0.0     0.0  0.000000    0.0   \n",
       "\n",
       "   zoning  zoo  zooey  \n",
       "0     0.0  0.0    0.0  \n",
       "1     0.0  0.0    0.0  \n",
       "2     0.0  0.0    0.0  \n",
       "3     0.0  0.0    0.0  \n",
       "4     0.0  0.0    0.0  \n",
       "5     0.0  0.0    0.0  \n",
       "6     0.0  0.0    0.0  \n",
       "7     0.0  0.0    0.0  \n",
       "8     0.0  0.0    0.0  \n",
       "9     0.0  0.0    0.0  \n",
       "\n",
       "[10 rows x 10000 columns]"
      ]
     },
     "execution_count": 66,
     "metadata": {},
     "output_type": "execute_result"
    }
   ],
   "source": [
    "tf_idf = pd.DataFrame(X_test_ei.toarray(), columns=vectorizer.get_feature_names_out())\n",
    "tf_idf.head(10)"
   ]
  },
  {
   "cell_type": "markdown",
   "metadata": {},
   "source": [
    "## Model Creation & Model Training & Model Saving"
   ]
  },
  {
   "cell_type": "code",
   "execution_count": 67,
   "metadata": {},
   "outputs": [],
   "source": [
    "from sklearn.naive_bayes import MultinomialNB\n",
    "from sklearn.svm import SVC\n",
    "from sklearn.tree import DecisionTreeClassifier\n",
    "from sklearn.ensemble import RandomForestClassifier\n",
    "import xgboost\n",
    "import pickle\n",
    "from sklearn import metrics"
   ]
  },
  {
   "cell_type": "code",
   "execution_count": 68,
   "metadata": {},
   "outputs": [],
   "source": [
    "def create_models():\n",
    "    nb_clf  = MultinomialNB(alpha=0.01)\n",
    "    svm_clf = SVC(C=1.0, kernel='linear', degree=3, gamma='auto')\n",
    "    dt_clf  = DecisionTreeClassifier(max_depth=7)\n",
    "    rf_clf  = RandomForestClassifier(n_estimators=750)\n",
    "    xgb_clf = xgboost.XGBClassifier(use_label_encoder=False)\n",
    "    return {\"NaiveBayes\":nb_clf, \"SVM\":svm_clf, \"DecisionTree\":dt_clf, \"RandomForest\":rf_clf, \"Xgboost\":xgb_clf}"
   ]
  },
  {
   "cell_type": "markdown",
   "metadata": {},
   "source": [
    "#### Model Performance Evaluation with accuracy & f1-score & roc-auc score"
   ]
  },
  {
   "cell_type": "code",
   "execution_count": 69,
   "metadata": {},
   "outputs": [],
   "source": [
    "_metrics = [\"Accuracy\", \"Accuracy\", \"Accuracy\" ,\"Accuracy\", \"Precision\", \"Precision\", \"Precision\",\"Precision\", \"Recall\",\"Recall\",\"Recall\",\"Recall\", \"F1-Score\", \"F1-Score\", \"F1-Score\", \"F1-Score\", \"Roc-Auc Score\", \"Roc-Auc Score\", \"Roc-Auc Score\", \"Roc-Auc Score\"]\n",
    "_types   = [\"E-I\", \"N-S\", \"F-T\", \"J-P\", \"E-I\", \"N-S\", \"F-T\", \"J-P\", \"E-I\", \"N-S\", \"F-T\", \"J-P\",\"E-I\", \"N-S\", \"F-T\", \"J-P\",\"E-I\", \"N-S\", \"F-T\", \"J-P\"]\n",
    "_columns = [\"NaiveBayes\", \"SVM\", \"DecisionTree\", \"RandomForest\", \"Xgboost\"]"
   ]
  },
  {
   "cell_type": "code",
   "execution_count": 70,
   "metadata": {},
   "outputs": [
    {
     "data": {
      "text/html": [
       "<div>\n",
       "<style scoped>\n",
       "    .dataframe tbody tr th:only-of-type {\n",
       "        vertical-align: middle;\n",
       "    }\n",
       "\n",
       "    .dataframe tbody tr th {\n",
       "        vertical-align: top;\n",
       "    }\n",
       "\n",
       "    .dataframe thead th {\n",
       "        text-align: right;\n",
       "    }\n",
       "</style>\n",
       "<table border=\"1\" class=\"dataframe\">\n",
       "  <thead>\n",
       "    <tr style=\"text-align: right;\">\n",
       "      <th></th>\n",
       "      <th></th>\n",
       "      <th>NaiveBayes</th>\n",
       "      <th>SVM</th>\n",
       "      <th>DecisionTree</th>\n",
       "      <th>RandomForest</th>\n",
       "      <th>Xgboost</th>\n",
       "    </tr>\n",
       "  </thead>\n",
       "  <tbody>\n",
       "    <tr>\n",
       "      <th rowspan=\"4\" valign=\"top\">Accuracy</th>\n",
       "      <th>E-I</th>\n",
       "      <td>NaN</td>\n",
       "      <td>NaN</td>\n",
       "      <td>NaN</td>\n",
       "      <td>NaN</td>\n",
       "      <td>NaN</td>\n",
       "    </tr>\n",
       "    <tr>\n",
       "      <th>N-S</th>\n",
       "      <td>NaN</td>\n",
       "      <td>NaN</td>\n",
       "      <td>NaN</td>\n",
       "      <td>NaN</td>\n",
       "      <td>NaN</td>\n",
       "    </tr>\n",
       "    <tr>\n",
       "      <th>F-T</th>\n",
       "      <td>NaN</td>\n",
       "      <td>NaN</td>\n",
       "      <td>NaN</td>\n",
       "      <td>NaN</td>\n",
       "      <td>NaN</td>\n",
       "    </tr>\n",
       "    <tr>\n",
       "      <th>J-P</th>\n",
       "      <td>NaN</td>\n",
       "      <td>NaN</td>\n",
       "      <td>NaN</td>\n",
       "      <td>NaN</td>\n",
       "      <td>NaN</td>\n",
       "    </tr>\n",
       "    <tr>\n",
       "      <th rowspan=\"4\" valign=\"top\">Precision</th>\n",
       "      <th>E-I</th>\n",
       "      <td>NaN</td>\n",
       "      <td>NaN</td>\n",
       "      <td>NaN</td>\n",
       "      <td>NaN</td>\n",
       "      <td>NaN</td>\n",
       "    </tr>\n",
       "    <tr>\n",
       "      <th>N-S</th>\n",
       "      <td>NaN</td>\n",
       "      <td>NaN</td>\n",
       "      <td>NaN</td>\n",
       "      <td>NaN</td>\n",
       "      <td>NaN</td>\n",
       "    </tr>\n",
       "    <tr>\n",
       "      <th>F-T</th>\n",
       "      <td>NaN</td>\n",
       "      <td>NaN</td>\n",
       "      <td>NaN</td>\n",
       "      <td>NaN</td>\n",
       "      <td>NaN</td>\n",
       "    </tr>\n",
       "    <tr>\n",
       "      <th>J-P</th>\n",
       "      <td>NaN</td>\n",
       "      <td>NaN</td>\n",
       "      <td>NaN</td>\n",
       "      <td>NaN</td>\n",
       "      <td>NaN</td>\n",
       "    </tr>\n",
       "    <tr>\n",
       "      <th rowspan=\"4\" valign=\"top\">Recall</th>\n",
       "      <th>E-I</th>\n",
       "      <td>NaN</td>\n",
       "      <td>NaN</td>\n",
       "      <td>NaN</td>\n",
       "      <td>NaN</td>\n",
       "      <td>NaN</td>\n",
       "    </tr>\n",
       "    <tr>\n",
       "      <th>N-S</th>\n",
       "      <td>NaN</td>\n",
       "      <td>NaN</td>\n",
       "      <td>NaN</td>\n",
       "      <td>NaN</td>\n",
       "      <td>NaN</td>\n",
       "    </tr>\n",
       "    <tr>\n",
       "      <th>F-T</th>\n",
       "      <td>NaN</td>\n",
       "      <td>NaN</td>\n",
       "      <td>NaN</td>\n",
       "      <td>NaN</td>\n",
       "      <td>NaN</td>\n",
       "    </tr>\n",
       "    <tr>\n",
       "      <th>J-P</th>\n",
       "      <td>NaN</td>\n",
       "      <td>NaN</td>\n",
       "      <td>NaN</td>\n",
       "      <td>NaN</td>\n",
       "      <td>NaN</td>\n",
       "    </tr>\n",
       "    <tr>\n",
       "      <th rowspan=\"4\" valign=\"top\">F1-Score</th>\n",
       "      <th>E-I</th>\n",
       "      <td>NaN</td>\n",
       "      <td>NaN</td>\n",
       "      <td>NaN</td>\n",
       "      <td>NaN</td>\n",
       "      <td>NaN</td>\n",
       "    </tr>\n",
       "    <tr>\n",
       "      <th>N-S</th>\n",
       "      <td>NaN</td>\n",
       "      <td>NaN</td>\n",
       "      <td>NaN</td>\n",
       "      <td>NaN</td>\n",
       "      <td>NaN</td>\n",
       "    </tr>\n",
       "    <tr>\n",
       "      <th>F-T</th>\n",
       "      <td>NaN</td>\n",
       "      <td>NaN</td>\n",
       "      <td>NaN</td>\n",
       "      <td>NaN</td>\n",
       "      <td>NaN</td>\n",
       "    </tr>\n",
       "    <tr>\n",
       "      <th>J-P</th>\n",
       "      <td>NaN</td>\n",
       "      <td>NaN</td>\n",
       "      <td>NaN</td>\n",
       "      <td>NaN</td>\n",
       "      <td>NaN</td>\n",
       "    </tr>\n",
       "    <tr>\n",
       "      <th rowspan=\"4\" valign=\"top\">Roc-Auc Score</th>\n",
       "      <th>E-I</th>\n",
       "      <td>NaN</td>\n",
       "      <td>NaN</td>\n",
       "      <td>NaN</td>\n",
       "      <td>NaN</td>\n",
       "      <td>NaN</td>\n",
       "    </tr>\n",
       "    <tr>\n",
       "      <th>N-S</th>\n",
       "      <td>NaN</td>\n",
       "      <td>NaN</td>\n",
       "      <td>NaN</td>\n",
       "      <td>NaN</td>\n",
       "      <td>NaN</td>\n",
       "    </tr>\n",
       "    <tr>\n",
       "      <th>F-T</th>\n",
       "      <td>NaN</td>\n",
       "      <td>NaN</td>\n",
       "      <td>NaN</td>\n",
       "      <td>NaN</td>\n",
       "      <td>NaN</td>\n",
       "    </tr>\n",
       "    <tr>\n",
       "      <th>J-P</th>\n",
       "      <td>NaN</td>\n",
       "      <td>NaN</td>\n",
       "      <td>NaN</td>\n",
       "      <td>NaN</td>\n",
       "      <td>NaN</td>\n",
       "    </tr>\n",
       "  </tbody>\n",
       "</table>\n",
       "</div>"
      ],
      "text/plain": [
       "                  NaiveBayes  SVM DecisionTree RandomForest Xgboost\n",
       "Accuracy      E-I        NaN  NaN          NaN          NaN     NaN\n",
       "              N-S        NaN  NaN          NaN          NaN     NaN\n",
       "              F-T        NaN  NaN          NaN          NaN     NaN\n",
       "              J-P        NaN  NaN          NaN          NaN     NaN\n",
       "Precision     E-I        NaN  NaN          NaN          NaN     NaN\n",
       "              N-S        NaN  NaN          NaN          NaN     NaN\n",
       "              F-T        NaN  NaN          NaN          NaN     NaN\n",
       "              J-P        NaN  NaN          NaN          NaN     NaN\n",
       "Recall        E-I        NaN  NaN          NaN          NaN     NaN\n",
       "              N-S        NaN  NaN          NaN          NaN     NaN\n",
       "              F-T        NaN  NaN          NaN          NaN     NaN\n",
       "              J-P        NaN  NaN          NaN          NaN     NaN\n",
       "F1-Score      E-I        NaN  NaN          NaN          NaN     NaN\n",
       "              N-S        NaN  NaN          NaN          NaN     NaN\n",
       "              F-T        NaN  NaN          NaN          NaN     NaN\n",
       "              J-P        NaN  NaN          NaN          NaN     NaN\n",
       "Roc-Auc Score E-I        NaN  NaN          NaN          NaN     NaN\n",
       "              N-S        NaN  NaN          NaN          NaN     NaN\n",
       "              F-T        NaN  NaN          NaN          NaN     NaN\n",
       "              J-P        NaN  NaN          NaN          NaN     NaN"
      ]
     },
     "execution_count": 70,
     "metadata": {},
     "output_type": "execute_result"
    }
   ],
   "source": [
    "evaluation_df = pd.DataFrame(columns=_columns, index=[_metrics, _types])\n",
    "evaluation_df"
   ]
  },
  {
   "cell_type": "code",
   "execution_count": 71,
   "metadata": {},
   "outputs": [
    {
     "data": {
      "text/plain": [
       "{'NaiveBayes': MultinomialNB(alpha=0.01),\n",
       " 'SVM': SVC(gamma='auto', kernel='linear'),\n",
       " 'DecisionTree': DecisionTreeClassifier(max_depth=7),\n",
       " 'RandomForest': RandomForestClassifier(n_estimators=750),\n",
       " 'Xgboost': XGBClassifier(base_score=None, booster=None, callbacks=None,\n",
       "               colsample_bylevel=None, colsample_bynode=None,\n",
       "               colsample_bytree=None, device=None, early_stopping_rounds=None,\n",
       "               enable_categorical=False, eval_metric=None, feature_types=None,\n",
       "               gamma=None, grow_policy=None, importance_type=None,\n",
       "               interaction_constraints=None, learning_rate=None, max_bin=None,\n",
       "               max_cat_threshold=None, max_cat_to_onehot=None,\n",
       "               max_delta_step=None, max_depth=None, max_leaves=None,\n",
       "               min_child_weight=None, missing=nan, monotone_constraints=None,\n",
       "               multi_strategy=None, n_estimators=None, n_jobs=None,\n",
       "               num_parallel_tree=None, random_state=None, ...)}"
      ]
     },
     "execution_count": 71,
     "metadata": {},
     "output_type": "execute_result"
    }
   ],
   "source": [
    "models = create_models()\n",
    "models"
   ]
  },
  {
   "cell_type": "code",
   "execution_count": 72,
   "metadata": {},
   "outputs": [
    {
     "name": "stdout",
     "output_type": "stream",
     "text": [
      "MultinomialNB(alpha=0.01) is training for E-I...\n",
      "MultinomialNB(alpha=0.01) is training for N-S...\n",
      "MultinomialNB(alpha=0.01) is training for F-T...\n",
      "MultinomialNB(alpha=0.01) is training for J-P...\n",
      "SVC(gamma='auto', kernel='linear') is training for E-I...\n"
     ]
    },
    {
     "name": "stdout",
     "output_type": "stream",
     "text": [
      "SVC(gamma='auto', kernel='linear') is training for N-S...\n",
      "SVC(gamma='auto', kernel='linear') is training for F-T...\n",
      "SVC(gamma='auto', kernel='linear') is training for J-P...\n",
      "DecisionTreeClassifier(max_depth=7) is training for E-I...\n",
      "DecisionTreeClassifier(max_depth=7) is training for N-S...\n",
      "DecisionTreeClassifier(max_depth=7) is training for F-T...\n",
      "DecisionTreeClassifier(max_depth=7) is training for J-P...\n",
      "RandomForestClassifier(n_estimators=750) is training for E-I...\n",
      "RandomForestClassifier(n_estimators=750) is training for N-S...\n",
      "RandomForestClassifier(n_estimators=750) is training for F-T...\n",
      "RandomForestClassifier(n_estimators=750) is training for J-P...\n"
     ]
    }
   ],
   "source": [
    "for model_item in models.items():\n",
    "    for X_train, X_test, y_train, y_test in zip(x_all_train, x_all_test, y_all_train, y_all_test):\n",
    "        # Model creation and prediction\n",
    "        model = model_item[1]\n",
    "        print(f\"{model} is training for {y_train.name}...\")\n",
    "        model.fit(X_train, y_train)\n",
    "        pred = model.predict(X_test)\n",
    "        # Performance evaluation metrics\n",
    "        evaluation_df.loc[\"Accuracy\",y_train.name][model_item[0]]      = round(metrics.accuracy_score(y_test, pred), 3)\n",
    "        evaluation_df.loc[\"Precision\",y_train.name][model_item[0]]     = round(metrics.precision_score(y_test, pred), 3)\n",
    "        evaluation_df.loc[\"Recall\",y_train.name][model_item[0]]        = round(metrics.recall_score(y_test, pred), 3)        \n",
    "        evaluation_df.loc[\"F1-Score\",y_train.name][model_item[0]]      = round(metrics.f1_score(y_test, pred), 3)\n",
    "        evaluation_df.loc[\"Roc-Auc Score\",y_train.name][model_item[0]] = round(metrics.roc_auc_score(y_test, pred), 3)        \n",
    "        # Save model\n",
    "        filename = f'saved-models/{model_item[0]}_{y_test.name}.sav'\n",
    "        pickle.dump(model,open(filename, 'wb'))"
   ]
  },
  {
   "cell_type": "code",
   "execution_count": null,
   "metadata": {
    "scrolled": false
   },
   "outputs": [
    {
     "data": {
      "text/html": [
       "<div>\n",
       "<style scoped>\n",
       "    .dataframe tbody tr th:only-of-type {\n",
       "        vertical-align: middle;\n",
       "    }\n",
       "\n",
       "    .dataframe tbody tr th {\n",
       "        vertical-align: top;\n",
       "    }\n",
       "\n",
       "    .dataframe thead th {\n",
       "        text-align: right;\n",
       "    }\n",
       "</style>\n",
       "<table border=\"1\" class=\"dataframe\">\n",
       "  <thead>\n",
       "    <tr style=\"text-align: right;\">\n",
       "      <th></th>\n",
       "      <th></th>\n",
       "      <th>NaiveBayes</th>\n",
       "      <th>SVM</th>\n",
       "      <th>DecisionTree</th>\n",
       "      <th>RandomForest</th>\n",
       "      <th>Xgboost</th>\n",
       "    </tr>\n",
       "  </thead>\n",
       "  <tbody>\n",
       "    <tr>\n",
       "      <th rowspan=\"4\" valign=\"top\">Accuracy</th>\n",
       "      <th>E-I</th>\n",
       "      <td>0.823</td>\n",
       "      <td>0.896</td>\n",
       "      <td>0.796</td>\n",
       "      <td>0.952</td>\n",
       "      <td>0.936</td>\n",
       "    </tr>\n",
       "    <tr>\n",
       "      <th>N-S</th>\n",
       "      <td>0.905</td>\n",
       "      <td>0.953</td>\n",
       "      <td>0.797</td>\n",
       "      <td>0.993</td>\n",
       "      <td>0.972</td>\n",
       "    </tr>\n",
       "    <tr>\n",
       "      <th>F-T</th>\n",
       "      <td>0.812</td>\n",
       "      <td>0.856</td>\n",
       "      <td>0.749</td>\n",
       "      <td>0.845</td>\n",
       "      <td>0.845</td>\n",
       "    </tr>\n",
       "    <tr>\n",
       "      <th>J-P</th>\n",
       "      <td>0.732</td>\n",
       "      <td>0.81</td>\n",
       "      <td>0.735</td>\n",
       "      <td>0.84</td>\n",
       "      <td>0.841</td>\n",
       "    </tr>\n",
       "    <tr>\n",
       "      <th rowspan=\"4\" valign=\"top\">Precision</th>\n",
       "      <th>E-I</th>\n",
       "      <td>0.827</td>\n",
       "      <td>0.882</td>\n",
       "      <td>0.835</td>\n",
       "      <td>0.986</td>\n",
       "      <td>0.914</td>\n",
       "    </tr>\n",
       "    <tr>\n",
       "      <th>N-S</th>\n",
       "      <td>0.908</td>\n",
       "      <td>0.98</td>\n",
       "      <td>0.765</td>\n",
       "      <td>0.991</td>\n",
       "      <td>0.998</td>\n",
       "    </tr>\n",
       "    <tr>\n",
       "      <th>F-T</th>\n",
       "      <td>0.806</td>\n",
       "      <td>0.851</td>\n",
       "      <td>0.747</td>\n",
       "      <td>0.831</td>\n",
       "      <td>0.843</td>\n",
       "    </tr>\n",
       "    <tr>\n",
       "      <th>J-P</th>\n",
       "      <td>0.728</td>\n",
       "      <td>0.801</td>\n",
       "      <td>0.772</td>\n",
       "      <td>0.91</td>\n",
       "      <td>0.827</td>\n",
       "    </tr>\n",
       "    <tr>\n",
       "      <th rowspan=\"4\" valign=\"top\">Recall</th>\n",
       "      <th>E-I</th>\n",
       "      <td>0.818</td>\n",
       "      <td>0.915</td>\n",
       "      <td>0.74</td>\n",
       "      <td>0.918</td>\n",
       "      <td>0.964</td>\n",
       "    </tr>\n",
       "    <tr>\n",
       "      <th>N-S</th>\n",
       "      <td>0.903</td>\n",
       "      <td>0.926</td>\n",
       "      <td>0.863</td>\n",
       "      <td>0.995</td>\n",
       "      <td>0.947</td>\n",
       "    </tr>\n",
       "    <tr>\n",
       "      <th>F-T</th>\n",
       "      <td>0.82</td>\n",
       "      <td>0.861</td>\n",
       "      <td>0.751</td>\n",
       "      <td>0.866</td>\n",
       "      <td>0.846</td>\n",
       "    </tr>\n",
       "    <tr>\n",
       "      <th>J-P</th>\n",
       "      <td>0.735</td>\n",
       "      <td>0.821</td>\n",
       "      <td>0.662</td>\n",
       "      <td>0.752</td>\n",
       "      <td>0.859</td>\n",
       "    </tr>\n",
       "    <tr>\n",
       "      <th rowspan=\"4\" valign=\"top\">F1-Score</th>\n",
       "      <th>E-I</th>\n",
       "      <td>0.823</td>\n",
       "      <td>0.898</td>\n",
       "      <td>0.785</td>\n",
       "      <td>0.951</td>\n",
       "      <td>0.938</td>\n",
       "    </tr>\n",
       "    <tr>\n",
       "      <th>N-S</th>\n",
       "      <td>0.905</td>\n",
       "      <td>0.953</td>\n",
       "      <td>0.811</td>\n",
       "      <td>0.993</td>\n",
       "      <td>0.972</td>\n",
       "    </tr>\n",
       "    <tr>\n",
       "      <th>F-T</th>\n",
       "      <td>0.813</td>\n",
       "      <td>0.856</td>\n",
       "      <td>0.749</td>\n",
       "      <td>0.848</td>\n",
       "      <td>0.845</td>\n",
       "    </tr>\n",
       "    <tr>\n",
       "      <th>J-P</th>\n",
       "      <td>0.731</td>\n",
       "      <td>0.811</td>\n",
       "      <td>0.713</td>\n",
       "      <td>0.824</td>\n",
       "      <td>0.843</td>\n",
       "    </tr>\n",
       "    <tr>\n",
       "      <th rowspan=\"4\" valign=\"top\">Roc-Auc Score</th>\n",
       "      <th>E-I</th>\n",
       "      <td>0.823</td>\n",
       "      <td>0.896</td>\n",
       "      <td>0.797</td>\n",
       "      <td>0.952</td>\n",
       "      <td>0.936</td>\n",
       "    </tr>\n",
       "    <tr>\n",
       "      <th>N-S</th>\n",
       "      <td>0.905</td>\n",
       "      <td>0.954</td>\n",
       "      <td>0.797</td>\n",
       "      <td>0.993</td>\n",
       "      <td>0.973</td>\n",
       "    </tr>\n",
       "    <tr>\n",
       "      <th>F-T</th>\n",
       "      <td>0.812</td>\n",
       "      <td>0.856</td>\n",
       "      <td>0.749</td>\n",
       "      <td>0.845</td>\n",
       "      <td>0.845</td>\n",
       "    </tr>\n",
       "    <tr>\n",
       "      <th>J-P</th>\n",
       "      <td>0.732</td>\n",
       "      <td>0.81</td>\n",
       "      <td>0.734</td>\n",
       "      <td>0.84</td>\n",
       "      <td>0.841</td>\n",
       "    </tr>\n",
       "  </tbody>\n",
       "</table>\n",
       "</div>"
      ],
      "text/plain": [
       "                  NaiveBayes    SVM DecisionTree RandomForest Xgboost\n",
       "Accuracy      E-I      0.823  0.896        0.796        0.952   0.936\n",
       "              N-S      0.905  0.953        0.797        0.993   0.972\n",
       "              F-T      0.812  0.856        0.749        0.845   0.845\n",
       "              J-P      0.732   0.81        0.735         0.84   0.841\n",
       "Precision     E-I      0.827  0.882        0.835        0.986   0.914\n",
       "              N-S      0.908   0.98        0.765        0.991   0.998\n",
       "              F-T      0.806  0.851        0.747        0.831   0.843\n",
       "              J-P      0.728  0.801        0.772         0.91   0.827\n",
       "Recall        E-I      0.818  0.915         0.74        0.918   0.964\n",
       "              N-S      0.903  0.926        0.863        0.995   0.947\n",
       "              F-T       0.82  0.861        0.751        0.866   0.846\n",
       "              J-P      0.735  0.821        0.662        0.752   0.859\n",
       "F1-Score      E-I      0.823  0.898        0.785        0.951   0.938\n",
       "              N-S      0.905  0.953        0.811        0.993   0.972\n",
       "              F-T      0.813  0.856        0.749        0.848   0.845\n",
       "              J-P      0.731  0.811        0.713        0.824   0.843\n",
       "Roc-Auc Score E-I      0.823  0.896        0.797        0.952   0.936\n",
       "              N-S      0.905  0.954        0.797        0.993   0.973\n",
       "              F-T      0.812  0.856        0.749        0.845   0.845\n",
       "              J-P      0.732   0.81        0.734         0.84   0.841"
      ]
     },
     "execution_count": 93,
     "metadata": {},
     "output_type": "execute_result"
    }
   ],
   "source": [
    "evaluation_df"
   ]
  },
  {
   "cell_type": "code",
   "execution_count": null,
   "metadata": {},
   "outputs": [],
   "source": [
    "### Save Tf-Idf Vectorizer"
   ]
  },
  {
   "cell_type": "code",
   "execution_count": null,
   "metadata": {},
   "outputs": [],
   "source": [
    "filename = 'vectorizer.pkl'\n",
    "pickle.dump(vectorizer,open(filename, 'wb'))"
   ]
  },
  {
   "cell_type": "code",
   "execution_count": null,
   "metadata": {},
   "outputs": [],
   "source": [
    "import pickle\n",
    "from nltk.corpus import stopwords\n",
    "from nltk.stem import WordNetLemmatizer\n",
    "import contractions\n",
    "import re\n",
    "from nltk.tokenize import word_tokenize\n",
    "import pandas as pd"
   ]
  },
  {
   "cell_type": "code",
   "execution_count": null,
   "metadata": {},
   "outputs": [],
   "source": [
    "sample_1 = \"War zone detected|||I have been a member of this website for quite a long time but never introduced myself properly yet so hi :proud:  How is it like to be an INTJ girl ? it is just like being the dark lord the...|||Nope|||What's empathy?|||1 I guess it's true 2 very true I tend to enjoy burning people in video games 3 I love it when people try to hurt my feelings when I don't have any 4 nope I'm a very religious muslim 5 not really...|||I love it when people try to hurt my feelings when I don't have any|||if you look closely you could see why my teachers don't correct my note books 232090|||That's complete bullshit I love INFPs even one of my best friends is one , personally I think INFPs choose to keep their feelings to themselves because they just like it that way or feel more...|||I just want to abandon everything and all the shitty responsibilities and move to live in a peaceful town in the country and change my name and live surrounded by kind neighbors in a bloody forest...|||You're actually being nice lol , now let me show you true evil . I once wrote a note to a girl I hate in the fourth grade I used to copy from some other girl's note book and I accurately copied her...|||Thank you so much , you're among the few rare guys who don't fall head over heels for duck face swag girls , faith in humanity restored|||Saying no offense then insulting is just like making out with a gay guy then saying no homo|||I'm not that serious at all I'm the biggest troll in the universe and I love it :laughing: Not all guys are the same so definitely there must be guys who like ENTP girls maybe|||Do you tend to stay up till 4:00 am just to enjoy the peaceful silence After everyone else falls asleep?|||INTJs during stop smoking campaigns https://38.media.tumblr.com/573c0f6277cdbd29ed84df073bd4fce7/tumblr_mlslnzsrrr1rdo35ho3_500.gif|||One word TROLOLOLOLOLLLOLOLOL|||ENTPs are not even an option well I'm butt burned|||I would suggest watching darker than black it's simply amazing|||I will admit I am attracted to assholes it's just the smell of farts it's simply irresistible|||you talk weird ... I like it !  http://img2.wikia.nocookie.net/__cb20131222000900/degrassi/images/2/26/Jonghyun_Dance.gif|||hell yeah but first you have to prove that you're fabulous enough to hang out with me *flips hair*|||My work here is done|||nope , did I write a grammatical error ?|||You will never know :crazy:  http://play.shopatsauce.com/assets/media/2013/07/pusheen.gif|||The investigators                                The criminals 1 shinya                                             Shogo 2 ginoza                                                                   ...|||I know shuusei was my favourite :crying: why did that horrible sick robot woman kill him . MAN i wana kill the sibyl system for that  we will randomize but the both of us will get to be who we want...|||yes ! I played many mafia games . lets start by decieding who plays what character and the number of characters   I wana be makishma shogo|||What are we waiting for lets make one right NOW !!!:crazy:  I bet it would be 100000 X times better than all the other mafia games   lets discuss the rules|||Lady Lunar and Hotaru  you guys must try this anime it's amazing . here is the trailer   http://www.youtube.com/watch?v=Agnrim_5pio|||http://img1.ak.crunchyroll.com/i/spire2/08232008/0/5/f/e/05fe1f3eafbbb0_full.gif|||do you like to troll and mess around :P|||http://37.media.tumblr.com/tumblr_lr6j8egSfl1r08wr9o1_400.gif|||lets run away  together lol|||the more your parents become controlling the more they care about you it's just that they don't show that care properly . try to talk to them or just wait till you are grown enough to leave them...|||http://www.mymangamarathon.com/wp-content/uploads/2014/07/BlueExorcistGIF.gif|||no they're family they will probably be supportive instead of thinking of you as a burden|||lmafo , I'm studying business so I have a chance :P|||yes it is I want to be an artist but I'm afraid of regretting it later most art graduates found no job and are facing a lot of troubles the risks are massive|||Those are my favorite hobbies too ! , especially the making music part I'm a violinist and a water color artist . It's just that I don't get to do what I want parents want me to study and no time...|||I bet I have the same do because have to and i bet you hate them too . i want to know the ones you're passionate about|||what are your hobbies?|||lol when you're asleep :crazy:|||anybody in a mood to chat?|||lol this thread is funny|||the powers are too strong I'm attracted :frustrating:|||WHY U DO DIS   I watched Reboot like 5 five times and cried 50000 times :frustrating: it's still  the most amazing|||I love the beautiful art works on deviantart so this thread is made to show off beautiful favourite paintings and art works of talented artists    Spring  Yuumei...|||Do you just do this on exhausting days?  http://i.imgur.com/M2EaiMp.gif|||I just re watched them all !!  http://mashable.com/wp-content/uploads/2013/07/crying-waterfalls.gif   they still make meh cry so beautiful  I always loved vocaloid and will always do . here is...|||your profile picture isn't it the girl from just be friends?  https://encrypted-tbn1.gstatic.com/images?q=tbn:ANd9GcRG4knylGi5uIyV1ha4kzlwGUA1lICCGKGh4mzPO9ugmaV0QaiZ4g\"\n",
    "\n",
    "sample_2 = \"'These are two very good reasons as to why I would drop friends as well. 1. If someone has a mental illness, it is NEVER okay to make fun of them no matter how badly they may have treated them before....|||Absolutely, it is never final. We would give them another chance if they show that they will change.    It's funny, I always thought I was the one with the problem with keeping in touch with...|||My best friend is an ESFJ. She does not like to show that she is warm or nurturing but it shines right through. It's cute how she thinks she can hide it. She is not as bad as she'd like to think she...|||Lots of water lol. Oh and sunglasses and shorts. I live in shorts in the Spring and Summer.|||This is actually very encouraging. I have to work on thinking this way.|||Yes, I believe this is why people do it too. They just like to brag and show proof that they were actually there.|||I know an ENFJ who does this exact thing! It's so frustrating. I'd love some insight as well.|||Trying to be extroverted can be a whole nother job in itself lol|||You took the words right out of my mouth. We were made introverts and extroverts for a reason. We do not have to stress ourselves out trying to be the opposite type.|||If you're poor (or think you are) how do you feed yourself? How much money do you spend a week on food?  I don't think I'm poor but I also do not have the most money in the world. I spend about...|||This was sooooo deep. You have me feeling guilty for things I've said to every other personality type in my past now:laughing:. I think everyone could all get on the same page if we just all took the...|||Either Catfish or Spongebob. I can't remember. From one extreme to the next :laughing:|||You're right. I didn't even look at it that way:tongue:.|||I was thinking the same thing. hahaha|||Oh em gee. That is so dangerous! I'm not a violent person but I think I would've punched that kid too.     I have been in physical fights when I was younger. People thought because I was so quiet...|||Yes, what they said. hahaha. ISFJ's just want you to listen to them intentively. We don't need advice or feedback, we just want you to nod and say every once in awhile that you understand how we're...|||Nothing wrong with that. I've had my childhood teddy bear Buster (since I was 9 to be exact). I recently slept without him for the first time a few months ago and almost had a panic attack. I...|||Wow the second situation sounds so sad :(. I have a great relationship with my mom. We're like best friends thank God. I know every mother out there isn't perfect but as children of God, we must love...|||ESFJ's seem to take on the most leadership role from what I know personally. I would say the same for INTJ's but in a different way. It's kind of like INTJ's do not set out to be a leader but they do...|||Although my INFP does not lie much, when she does, she does a great job at it! Haha. I actually find it funny about some of the things she lied to me about as a kid.   Her lies are usually little...|||My fellow ISFJ's in this forum did a pretty good job explaining it to you. What it all boils down to is, it is just very hard for us to open up. I mean very, very hard. Not to scare you or anything...|||I think we all have days where we are a little tired of being ourselves. But you have to remember that that is the exact things that makes us unique. God placed us here on Earth for a reason.  ...|||I talk with my hands  a lot. Funny thing is, I did not realize it until recently. I make videos on Youtube and when I watch myself once I am done recording, I'm like  Geez, have I always done this....|||Zen Lizard Glad to be back and happy to hear from you too ;)|||Zen Lizard I've been so busy with my work schedule. Things seemed to have slowed down now so, I'm back on here. Glad to see that someone noticed my absence :0)|||I've been so busy with my work schedule. Things seemed to have slowed down now so, I'm back on here. Glad to see that someone noticed my absence :0)|||I usually don't lie but I definitely hold back my feelings in a situations like this.|||This is very true. You can't push too hard. We open up when we feel that we can really trust someone and when we know that the person is really listening to our story and not just pretending to care...|||I'm at work so I do not have  a lot of time to provide details so I hope if I can't provide more in a timely matter, someone else can help. :) You may see it as if you've done so much for her just...|||Can you elaborate please? Are you saying that your friends make you feel bad about pulling out of plans and you go along with them even if that means flaking on a romantic interest?|||Here ya go|||I'm going through something very similar. I'd love some advice on this as well.|||No. Socializing usually requires going out and spending money. It also involves too much energy. I don't drink  :-P|||This relationship sounds unhealthy to me unfortunately. As much as I'd like to restrict my SO from these things, I can't see myself doing this to him.|||I've been told that my voice can be high pitch and squeaky. My little sister went so far as saying that my voice reminds her of a dolphin. hahahahaha I don't agree however.|||She actually did want you to respond. And this isn't just an ISFJ thing it's a girl thing. She felt that if you felt the same way, you would have responded regardless of what she said. When you did...|||Small talk? How about no talk at all? :-P I think I only enjoy small talk when someone is actually is genuinely interested in knowing about me. I don't initiate small talk with anyone but if I see...|||Ok, so it's more about respect rather than jealously. That helps. Thanks!|||Beyonce seems like an ISFJ to me. Brittany is more of an ISFP and I don't know Rihanna too well to tell. My guess would be ESTP?  Unrelated but I saw Kanye West listed as an ISFJ on another site...|||Hmm very interesting match. It's funny how hard it is for us to let others know our feelings first when getting to know someone romantically.|||What type is your wife?|||Honestly, there is nothing that you can really do. Just make sure to be there and support her when she is stressed out. I'm happiest when following a certain routine. I don't like change. I just...|||I completely agree with this. I used to think I was paranoid until I met my INFJ friend. She is paranoid with similar situations of all that you mentioned. Although I don't agree with most of her...|||Do you guys get jealous easily? If so, do you show it?|||1. Dependable and caring.   2. If I'm asking to hang out, never saying no when asking me to hang out and will contact you often, that means I am serious  3. I can wait as long as possible. I...|||Pretty much agree with all of the other ISFJs in this thread. So just going to add a little. If important or I'm highly interested, I pay attention closely to details. If taking a test (which I find...|||I can't go into specifics but I can try and help based on behaviors. The biggest difference I notice between myself and my INFJ company are that they are more up for change and that they are very...|||My ENFJ started doing this too at some point. He felt that we didn't see each other enough and he said he needed more attention. So he actually made the situation worse by distancing himself. HA the...|||I don't follow politics at all. I don't find it interesting even though I know it is very important. I don't like to see how it divides people and I tend to stray away from the topic when it is...|||Those INTJs and their short answers. Ha gotta love em.'\"\n"
   ]
  },
  {
   "cell_type": "code",
   "execution_count": null,
   "metadata": {},
   "outputs": [],
   "source": [
    "def load_files():\n",
    "    try:\n",
    "        with open(\"saved-models/RandomForest_E-I.sav\", \"rb\") as file:\n",
    "            ei_classifier = pickle.load(file)\n",
    "        with  open(\"saved-models/RandomForest_N-S.sav\", \"rb\") as file:\n",
    "            ns_classifier = pickle.load(file)\n",
    "        with open(\"saved-models/SVM_F-T.sav\", \"rb\") as file:\n",
    "            ft_classifier = pickle.load(file)\n",
    "        with  open(\"saved-models/Xgboost_J-P.sav\", \"rb\") as file:\n",
    "            jp_classifier = pickle.load(file)\n",
    "    except FileNotFoundError:\n",
    "        print(\"Model not found!\")\n",
    "\n",
    "    try:\n",
    "        with open(\"vectorizer/vectorizer.pkl\", \"rb\") as file:\n",
    "            vectorizer = pickle.load(file)\n",
    "    except FileNotFoundError:\n",
    "        print(\"Tokenizer not found!\")\n",
    "\n",
    "    return ei_classifier, ns_classifier, ft_classifier, jp_classifier, vectorizer"
   ]
  },
  {
   "cell_type": "code",
   "execution_count": null,
   "metadata": {},
   "outputs": [],
   "source": [
    "def preprocessing(text):\n",
    "    stopword_list = stopwords.words(\"english\")\n",
    "    lemmatizer = WordNetLemmatizer()\n",
    "    \n",
    "    text = contractions.fix(text)\n",
    "    text = text.lower()\n",
    "    text = re.sub(r'@([a-zA-Z0-9_]{1,50})', '', text)\n",
    "    text = re.sub(r'#([a-zA-Z0-9_]{1,50})', '', text)\n",
    "    text = re.sub(r'http[s]?://\\S+', '', text)\n",
    "    text = re.sub(r'[^A-Za-z0-9]+', ' ', text)\n",
    "    text = re.sub(r' +', ' ', text)\n",
    "    text = \" \".join([word for word in text.split() if not len(word) <3])\n",
    "    text = word_tokenize(text)\n",
    "    text = [word for word in text if not word in stopword_list]\n",
    "    text = [lemmatizer.lemmatize(word) for word in text]\n",
    "    text = \" \".join(text)\n",
    "    return text\n"
   ]
  },
  {
   "cell_type": "code",
   "execution_count": null,
   "metadata": {},
   "outputs": [],
   "source": [
    "def get_prediction():\n",
    "    ei_classifier, ns_classifier, ft_classifier, jp_classifier, vectorizer = load_files()\n",
    "    text   = sample_1\n",
    "    text   = preprocessing(text)\n",
    "    text   = vectorizer.transform([text])\n",
    "    \n",
    "    prediction = \"\"\n",
    "    e_or_i = \"E\" if ei_classifier.predict(text)[0] == 1 else \"I\"\n",
    "    n_or_s = \"N\" if ns_classifier.predict(text)[0] == 1 else \"S\"\n",
    "    f_or_t = \"F\" if ft_classifier.predict(text)[0] == 1 else \"T\"\n",
    "    j_or_p = \"J\" if jp_classifier.predict(text)[0] == 1 else \"P\"\n",
    "    prediction = e_or_i + n_or_s + f_or_t + j_or_p\n",
    "\n",
    "    return prediction"
   ]
  },
  {
   "cell_type": "code",
   "execution_count": null,
   "metadata": {},
   "outputs": [
    {
     "name": "stderr",
     "output_type": "stream",
     "text": [
      "c:\\Python310\\lib\\site-packages\\sklearn\\base.py:329: UserWarning: Trying to unpickle estimator DecisionTreeClassifier from version 1.1.1 when using version 1.1.2. This might lead to breaking code or invalid results. Use at your own risk. For more info please refer to:\n",
      "https://scikit-learn.org/stable/model_persistence.html#security-maintainability-limitations\n",
      "  warnings.warn(\n"
     ]
    },
    {
     "name": "stderr",
     "output_type": "stream",
     "text": [
      "c:\\Python310\\lib\\site-packages\\sklearn\\base.py:329: UserWarning: Trying to unpickle estimator RandomForestClassifier from version 1.1.1 when using version 1.1.2. This might lead to breaking code or invalid results. Use at your own risk. For more info please refer to:\n",
      "https://scikit-learn.org/stable/model_persistence.html#security-maintainability-limitations\n",
      "  warnings.warn(\n",
      "C:\\Users\\Mithul\\AppData\\Local\\Temp\\ipykernel_2624\\1030007614.py:8: DeprecationWarning: Please use `csr_matrix` from the `scipy.sparse` namespace, the `scipy.sparse.csr` namespace is deprecated.\n",
      "  ft_classifier = pickle.load(file)\n",
      "c:\\Python310\\lib\\site-packages\\sklearn\\base.py:329: UserWarning: Trying to unpickle estimator SVC from version 1.1.1 when using version 1.1.2. This might lead to breaking code or invalid results. Use at your own risk. For more info please refer to:\n",
      "https://scikit-learn.org/stable/model_persistence.html#security-maintainability-limitations\n",
      "  warnings.warn(\n",
      "c:\\Python310\\lib\\site-packages\\xgboost\\core.py:160: UserWarning: [21:10:04] WARNING: C:\\buildkite-agent\\builds\\buildkite-windows-cpu-autoscaling-group-i-0cec3277c4d9d0165-1\\xgboost\\xgboost-ci-windows\\src\\common/error_msg.h:80: If you are loading a serialized model (like pickle in Python, RDS in R) or\n",
      "configuration generated by an older version of XGBoost, please export the model by calling\n",
      "`Booster.save_model` from that version first, then load it back in current version. See:\n",
      "\n",
      "    https://xgboost.readthedocs.io/en/stable/tutorials/saving_model.html\n",
      "\n",
      "for more details about differences between saving model and serializing.\n",
      "\n",
      "  warnings.warn(smsg, UserWarning)\n",
      "C:\\Users\\Mithul\\AppData\\Local\\Temp\\ipykernel_2624\\1030007614.py:16: DeprecationWarning: Please use `csr_matrix` from the `scipy.sparse` namespace, the `scipy.sparse.csr` namespace is deprecated.\n",
      "  vectorizer = pickle.load(file)\n",
      "c:\\Python310\\lib\\site-packages\\sklearn\\base.py:329: UserWarning: Trying to unpickle estimator TfidfTransformer from version 1.1.1 when using version 1.1.2. This might lead to breaking code or invalid results. Use at your own risk. For more info please refer to:\n",
      "https://scikit-learn.org/stable/model_persistence.html#security-maintainability-limitations\n",
      "  warnings.warn(\n",
      "c:\\Python310\\lib\\site-packages\\sklearn\\base.py:329: UserWarning: Trying to unpickle estimator TfidfVectorizer from version 1.1.1 when using version 1.1.2. This might lead to breaking code or invalid results. Use at your own risk. For more info please refer to:\n",
      "https://scikit-learn.org/stable/model_persistence.html#security-maintainability-limitations\n",
      "  warnings.warn(\n"
     ]
    },
    {
     "data": {
      "text/plain": [
       "'ENFP'"
      ]
     },
     "execution_count": 85,
     "metadata": {},
     "output_type": "execute_result"
    }
   ],
   "source": [
    "get_prediction()"
   ]
  }
 ],
 "metadata": {
  "kernelspec": {
   "display_name": "Python 3 (ipykernel)",
   "language": "python",
   "name": "python3"
  },
  "language_info": {
   "codemirror_mode": {
    "name": "ipython",
    "version": 3
   },
   "file_extension": ".py",
   "mimetype": "text/x-python",
   "name": "python",
   "nbconvert_exporter": "python",
   "pygments_lexer": "ipython3",
   "version": "3.10.0"
  }
 },
 "nbformat": 4,
 "nbformat_minor": 4
}
